{
 "cells": [
  {
   "cell_type": "markdown",
   "id": "a16b5425",
   "metadata": {},
   "source": [
    "### 2. Write a Simulated-Annealing algorithm to find the maximum value of a function f, where f = |14 • one (v) -190|. Here, v is the input binary variable of 50 bits. The one counts the number of ‘1’s in v. Set MAX =200, thus reset the algorithm 200 times for the global maximum and print the found maximum-value for each reset separated by a comma in the Output.txt file."
   ]
  },
  {
   "attachments": {},
   "cell_type": "markdown",
   "id": "312fcc1f",
   "metadata": {},
   "source": [
    "Simulated Annealing algorithm is a metaheuristic optimization method inspired by the annealing process in metallurgy. It is used to find the global optimum of a given cost function. The algorithm starts with a random solution and iteratively improves it by making small random changes. The acceptance of these changes is guided by a temperature parameter that is gradually decreased over time. The algorithm terminates when the temperature reaches a predefined minimum value or a satisfactory solution is found."
   ]
  },
  {
   "cell_type": "code",
   "execution_count": 1,
   "id": "fca64baa",
   "metadata": {},
   "outputs": [
    {
     "name": "stdout",
     "output_type": "stream",
     "text": [
      "Execution time: 0.13433384895324707 seconds\n",
      "Peak memory usage: 129330 bytes\n"
     ]
    }
   ],
   "source": [
    "import random\n",
    "import math\n",
    "import time\n",
    "import tracemalloc\n",
    "\n",
    "# Set the number of iterations (resets)\n",
    "MAX = 200\n",
    "\n",
    "# Define the function f\n",
    "def f(v):\n",
    "    return abs(14 * sum(v) - 190)\n",
    "\n",
    "# Simulated Annealing algorithm to find the global maximum of f\n",
    "def simulated_annealing():\n",
    "    # Initialize a random binary string of length 50\n",
    "    v = [random.randint(0, 1) for _ in range(50)]\n",
    "    \n",
    "    # Initialize the temperature\n",
    "    T = 100\n",
    "    T_min = 0.00001\n",
    "    alpha = 0.9\n",
    "    \n",
    "    # Initialize the best solution found so far\n",
    "    current_best = f(v)\n",
    "    best_v = v.copy()\n",
    "    \n",
    "    # Loop until the temperature reaches its minimum value\n",
    "    while T > T_min:\n",
    "        # Create a random neighbor solution\n",
    "        i = random.randint(0, 49)\n",
    "        v_new = v.copy()\n",
    "        v_new[i] = 1 - v_new[i]\n",
    "        delta_E = f(v_new) - f(v)\n",
    "        \n",
    "        # Decide if we should accept the new solution\n",
    "        if delta_E > 0:\n",
    "            v = v_new\n",
    "            current_best = f(v)\n",
    "            best_v = v.copy()\n",
    "        else:\n",
    "            # Accept the new solution with probability exp(delta_E / T)\n",
    "            acceptance_prob = math.exp(delta_E / T)\n",
    "            if acceptance_prob > random.uniform(0, 1):\n",
    "                v = v_new\n",
    "        \n",
    "        # Decrease the temperature\n",
    "        T *= alpha\n",
    "    return current_best, best_v\n",
    "\n",
    "# Start tracking the execution time and memory usage\n",
    "start_time = time.time()\n",
    "tracemalloc.start()\n",
    "\n",
    "results = []\n",
    "for i in range(MAX):\n",
    "    result = simulated_annealing() # run the Simulated Annealing algorithm and store the result\n",
    "    results.append(result)         # append the result to the results list\n",
    "\n",
    "with open(\"output.txt\", \"w\") as f:  # Write the results to a text file 'output.txt'\n",
    "    for max_value, max_v in results:\n",
    "        f.write(f\"{max_value}, {max_v}\\n\")\n",
    "\n",
    "# Stop tracking the execution time and memory usage\n",
    "end_time = time.time()\n",
    "current, peak = tracemalloc.get_traced_memory()\n",
    "tracemalloc.stop()\n",
    "\n",
    "# Print the execution time and memory usage\n",
    "print(\"Execution time:\", end_time - start_time, \"seconds\")\n",
    "print(\"Peak memory usage:\", peak, \"bytes\")"
   ]
  },
  {
   "attachments": {},
   "cell_type": "markdown",
   "id": "d3735deb",
   "metadata": {},
   "source": [
    "The simulated annealing algorithm here starts with an initial temperature T and a cooling rate alpha, and runs for a maximum of 200 iterations. For each iteration, a new random binary string is generated and its value of f is calculated. If the current value of f is greater than the maximum value found so far, the maximum value is updated. The temperature T is then decreased by multiplying it by alpha, and if T drops below the minimum temperature T_min, it is reset back to 100. The maximum value of f for each iteration is stored in the results list. Finally, the results list is written to a file named \"Output.txt\", and the total time taken to run the simulation is printed to the console."
   ]
  },
  {
   "attachments": {},
   "cell_type": "markdown",
   "id": "3904399b",
   "metadata": {},
   "source": [
    "The global maximum of the function f = |14 * one (v) -190|, where v is a 50-bit binary string, is 510. The maximum is achieved when all the bits in the binary string are equal to 1."
   ]
  },
  {
   "cell_type": "markdown",
   "id": "b68be28c",
   "metadata": {},
   "source": [
    "In SA, alpha is often used to refer to the cooling rate, which is the rate at which the temperature T decreases over time. The cooling rate determines how quickly the algorithm transitions from exploring the solution space to exploiting the current solution. A high cooling rate allows for more rapid exploration of the solution space, but may also cause the algorithm to converge prematurely to a suboptimal solution. A low cooling rate allows for a more thorough exploration of the solution space, but may also cause the algorithm to take a long time to converge to an optimal solution. The optimal cooling rate depends on the specific problem and the desired trade-off between exploration and exploitation."
   ]
  },
  {
   "cell_type": "markdown",
   "id": "61cc9979",
   "metadata": {},
   "source": []
  }
 ],
 "metadata": {
  "kernelspec": {
   "display_name": "Python 3",
   "language": "python",
   "name": "python3"
  },
  "language_info": {
   "codemirror_mode": {
    "name": "ipython",
    "version": 3
   },
   "file_extension": ".py",
   "mimetype": "text/x-python",
   "name": "python",
   "nbconvert_exporter": "python",
   "pygments_lexer": "ipython3",
   "version": "3.10.8"
  },
  "vscode": {
   "interpreter": {
    "hash": "b0fa6594d8f4cbf19f97940f81e996739fb7646882a419484c72d19e05852a7e"
   }
  }
 },
 "nbformat": 4,
 "nbformat_minor": 5
}
