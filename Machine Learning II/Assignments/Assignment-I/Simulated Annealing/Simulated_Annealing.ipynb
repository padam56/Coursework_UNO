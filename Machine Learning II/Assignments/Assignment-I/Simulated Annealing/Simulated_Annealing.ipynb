{
 "cells": [
  {
   "cell_type": "markdown",
   "id": "a16b5425",
   "metadata": {},
   "source": [
    "### 2. Write a Simulated-Annealing algorithm to find the maximum value of a function f, where f = |14 • one (v) -190|. Here, v is the input binary variable of 50 bits. The one counts the number of ‘1’s in v. Set MAX =200, thus reset the algorithm 200 times for the global maximum and print the found maximum-value for each reset separated by a comma in the Output.txt file."
   ]
  },
  {
   "attachments": {},
   "cell_type": "markdown",
   "id": "312fcc1f",
   "metadata": {},
   "source": [
    "Simulated Annealing algorithm is a metaheuristic optimization method inspired by the annealing process in metallurgy. It is used to find the global optimum of a given cost function. The algorithm starts with a random solution and iteratively improves it by making small random changes. The acceptance of these changes is guided by a temperature parameter that is gradually decreased over time. The algorithm terminates when the temperature reaches a predefined minimum value or a satisfactory solution is found."
   ]
  },
  {
   "cell_type": "code",
   "execution_count": 16,
   "id": "fca64baa",
   "metadata": {},
   "outputs": [
    {
     "name": "stdout",
     "output_type": "stream",
     "text": [
      "Time taken: 0.00 seconds\n"
     ]
    }
   ],
   "source": [
    "import random\n",
    "import time\n",
    "\n",
    "# function to calculate the value of f\n",
    "def f(v):\n",
    "    one = v.count(\"1\")\n",
    "    return abs(14 * one - 190)\n",
    "\n",
    "# Simulated Annealing algorithm\n",
    "def simulated_annealing():\n",
    "    \"\"\"\n",
    "    Main function to implement the Simulated Annealing Algorithm\n",
    "    T: Initial temperature\n",
    "    alpha: Rate at which temperature should decrease (cooling rate)\n",
    "    MAX: Maximum number of iterations to run the algorithm\n",
    "    \"\"\"\n",
    "    MAX = 200\n",
    "    T = 100 \n",
    "    T_min = 1\n",
    "    alpha = 0.995\n",
    "\n",
    "    # keep track of the maximum value of f found so far\n",
    "    maximum = 0\n",
    "    results = []\n",
    "    for i in range(MAX):\n",
    "        v = ''.join(random.choices(['0', '1'], k=50))\n",
    "        current = f(v)\n",
    "\n",
    "        # update the maximum value if the current value is greater\n",
    "        if current > maximum:\n",
    "            maximum = current\n",
    "        T = T * alpha\n",
    "        if T <= T_min:\n",
    "            T = 100\n",
    "        results.append(maximum)\n",
    "        \n",
    "    return results\n",
    "\n",
    "\n",
    "if __name__ == \"__main__\":\n",
    "    start_time = time.time()\n",
    "    results = simulated_annealing()\n",
    "    with open(\"Output.txt\", \"w\") as f:\n",
    "        f.write(\",\".join([str(x) for x in results]))\n",
    "    print(\"Time taken: {:.2f} seconds\".format(time.time() - start_time))"
   ]
  },
  {
   "attachments": {},
   "cell_type": "markdown",
   "id": "d3735deb",
   "metadata": {},
   "source": [
    "The simulated annealing algorithm starts with an initial temperature T and a cooling rate alpha, and runs for a maximum of 200 iterations. For each iteration, a new random binary string is generated and its value of f is calculated. If the current value of f is greater than the maximum value found so far, the maximum value is updated. The temperature T is then decreased by multiplying it by alpha, and if T drops below the minimum temperature T_min, it is reset back to 100. The maximum value of f for each iteration is stored in the results list.\n",
    "\n",
    "Finally, the results list is written to a file named \"Output.txt\", and the total time taken to run the simulation is printed to the console."
   ]
  },
  {
   "cell_type": "markdown",
   "id": "b68be28c",
   "metadata": {},
   "source": [
    "In SA, alpha is often used to refer to the cooling rate, which is the rate at which the temperature T decreases over time. The cooling rate determines how quickly the algorithm transitions from exploring the solution space to exploiting the current solution. A high cooling rate allows for more rapid exploration of the solution space, but may also cause the algorithm to converge prematurely to a suboptimal solution. A low cooling rate allows for a more thorough exploration of the solution space, but may also cause the algorithm to take a long time to converge to an optimal solution. The optimal cooling rate depends on the specific problem and the desired trade-off between exploration and exploitation."
   ]
  }
 ],
 "metadata": {
  "kernelspec": {
   "display_name": "Python 3 (ipykernel)",
   "language": "python",
   "name": "python3"
  },
  "language_info": {
   "codemirror_mode": {
    "name": "ipython",
    "version": 3
   },
   "file_extension": ".py",
   "mimetype": "text/x-python",
   "name": "python",
   "nbconvert_exporter": "python",
   "pygments_lexer": "ipython3",
   "version": "3.9.13"
  }
 },
 "nbformat": 4,
 "nbformat_minor": 5
}
