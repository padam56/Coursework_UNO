{
 "cells": [
  {
   "cell_type": "markdown",
   "id": "434a0378",
   "metadata": {},
   "source": [
    "### 1. Write a Hill-Climbing algorithm to find the maximum value of a function f, where f = |13 • one (v) -170|. Here, v is the input binary variable of 40 bits. The one counts the number of ‘1’s in v. Set MAX =100, thus reset the algorithm 100 times for the global maximum and print the found maximum-value for each reset separated by a comma in the Output.txt file."
   ]
  },
  {
   "cell_type": "code",
   "execution_count": 1,
   "id": "cfeb8628",
   "metadata": {},
   "outputs": [
    {
     "name": "stdout",
     "output_type": "stream",
     "text": [
      "Time complexity:  1.2953789234161377 seconds\n",
      "Space complexity:  45238 bytes or 44.177734375 KB\n"
     ]
    }
   ],
   "source": [
    "# Import required modules\n",
    "import random\n",
    "import time\n",
    "import tracemalloc\n",
    "\n",
    "# Define function to generate a random neighbor of a binary string\n",
    "def random_neighbor(v):\n",
    "  # Convert binary string to a list of characters\n",
    "  v_list = list(v)\n",
    "  \n",
    "  # Choose a random index in the binary string\n",
    "  i = random.randint(0, len(v) - 1)\n",
    "  \n",
    "  # Flip the bit at the chosen index\n",
    "  v_list[i] = '0' if v[i] == '1' else '1'\n",
    "  \n",
    "  # Convert the list of characters back to a binary string\n",
    "  return ''.join(v_list)\n",
    "\n",
    "# Define Hill Climbing algorithm to find the maximum value of the function f = |13 * one(v) - 170|\n",
    "def hill_climbing(v, max_iterations):\n",
    "  # Set current binary string and its value as the input binary string and its value\n",
    "  current_v = v\n",
    "  current_value = abs(13 * v.count('1') - 170)\n",
    "  \n",
    "  # Set best binary string and its value to be the current binary string and its value\n",
    "  best_value = current_value\n",
    "  best_v = current_v\n",
    "  \n",
    "  # Loop for a maximum of `max_iterations` times\n",
    "  for t in range(max_iterations):\n",
    "    # Set flag to indicate whether local optimum has been found\n",
    "    local_optimum = True\n",
    "    \n",
    "    # Generate 30 random neighbors and check if any of them have a better value than the current binary string\n",
    "    for i in range(30):\n",
    "      neighbor = random_neighbor(current_v)\n",
    "      neighbor_value = abs(13 * neighbor.count('1') - 170)\n",
    "      if neighbor_value > current_value:\n",
    "        current_v = neighbor\n",
    "        current_value = neighbor_value\n",
    "        local_optimum = False\n",
    "        if neighbor_value > best_value:\n",
    "          best_value = neighbor_value\n",
    "          best_v = neighbor\n",
    "          \n",
    "    # If no better neighbor is found, generate a new random binary string as the current binary string\n",
    "    if local_optimum:\n",
    "      current_v = ''.join([str(random.randint(0, 1)) for i in range(40)])\n",
    "      \n",
    "  # Return the best binary string and its value found after executing the Hill Climbing algorithm\n",
    "  return best_value, best_v\n",
    "\n",
    "# Start measuring the time complexity\n",
    "start_time = time.time()\n",
    "\n",
    "# Start tracking memory usage\n",
    "tracemalloc.start()\n",
    "\n",
    "# Execute main code only when the module is run as a standalone program\n",
    "if __name__ == '__main__':\n",
    "  # Set the number of times to run the Hill Climbing algorithm\n",
    "  MAX = 100\n",
    "  # Generate a random binary string of length 40\n",
    "  v = ''.join([str(random.randint(0, 1)) for i in range(40)])\n",
    "  # List to store the results of each run of the Hill Climbing algorithm\n",
    "  results = []\n",
    "  # Loop to run the Hill Climbing algorithm `MAX` times\n",
    "  for i in range(MAX):\n",
    "    result = hill_climbing(v, 100) # run the Hill Climbing algorithm and store the result\n",
    "    results.append(result)         # append the result to the results list\n",
    "    v = ''.join([str(random.randint(0, 1)) for i in range(40)]) # generate a new random binary string of length 40\n",
    "  with open('Output.txt', 'w') as f:  # Write the results to a text file 'Output.txt'\n",
    "    for value, v in results:\n",
    "      f.write(f'{value}, {v}\\n') # write the value and binary string in the format \"value, binary_string\"\n",
    "\n",
    "# Calculate and print the time complexity\n",
    "end_time = time.time() #end time\n",
    "current, peak = tracemalloc.get_traced_memory()\n",
    "tracemalloc.stop() #stop tracking memory usage\n",
    "\n",
    "print(\"Time complexity: \", end_time - start_time, \"seconds\") #print the time complexity\n",
    "print(\"Space complexity: \", peak, \"bytes\", \"or\", peak/1024, \"KB\") #print the space complexity"
   ]
  },
  {
   "cell_type": "code",
   "execution_count": null,
   "id": "837f6058",
   "metadata": {},
   "outputs": [],
   "source": []
  }
 ],
 "metadata": {
  "kernelspec": {
   "display_name": "Python 3",
   "language": "python",
   "name": "python3"
  },
  "language_info": {
   "codemirror_mode": {
    "name": "ipython",
    "version": 3
   },
   "file_extension": ".py",
   "mimetype": "text/x-python",
   "name": "python",
   "nbconvert_exporter": "python",
   "pygments_lexer": "ipython3",
   "version": "3.10.8"
  },
  "vscode": {
   "interpreter": {
    "hash": "b0fa6594d8f4cbf19f97940f81e996739fb7646882a419484c72d19e05852a7e"
   }
  }
 },
 "nbformat": 4,
 "nbformat_minor": 5
}
