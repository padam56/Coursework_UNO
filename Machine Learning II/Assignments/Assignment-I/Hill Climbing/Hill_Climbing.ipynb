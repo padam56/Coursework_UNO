{
 "cells": [
  {
   "cell_type": "markdown",
   "id": "434a0378",
   "metadata": {},
   "source": [
    "### 1. Write a Hill-Climbing algorithm to find the maximum value of a function f, where f = |13 • one (v) -170|. Here, v is the input binary variable of 40 bits. The one counts the number of ‘1’s in v. Set MAX =100, thus reset the algorithm 100 times for the global maximum and print the found maximum-value for each reset separated by a comma in the Output.txt file."
   ]
  },
  {
   "cell_type": "code",
   "execution_count": 1,
   "id": "61ba609d",
   "metadata": {},
   "outputs": [],
   "source": [
    "import time\n",
    "import tracemalloc\n",
    "import random\n",
    "\n",
    "# set the maximum number of iterations\n",
    "MAX_ITER = 100\n",
    "\n",
    "def count_ones(v):\n",
    "    # count the number of 1's in the binary representation of v\n",
    "    return bin(v).count(\"1\")\n",
    "\n",
    "def function_f(v):\n",
    "    # calculate the value of the function\n",
    "    return abs(13 * count_ones(v) - 170)"
   ]
  },
  {
   "cell_type": "code",
   "execution_count": 2,
   "id": "3ed61dac",
   "metadata": {},
   "outputs": [],
   "source": [
    "def hill_climb():\n",
    "    # initialize the best value as negative infinity\n",
    "    best_value = float(\"-inf\")\n",
    "    # initialize the best v as 0\n",
    "    best_v = 0\n",
    "\n",
    "    for i in range(MAX_ITER):\n",
    "        # generate a random 40-bit binary number\n",
    "        v = random.getrandbits(40)\n",
    "        # calculate the value of the function for the new v\n",
    "        new_value = function_f(v)\n",
    "        if new_value > best_value:\n",
    "            # if the new value is greater than the current best value\n",
    "            best_value = new_value    # update the best value\n",
    "            best_v = v                #update the best v\n",
    "    return best_value, best_v"
   ]
  },
  {
   "cell_type": "code",
   "execution_count": 3,
   "id": "de75f49d",
   "metadata": {},
   "outputs": [
    {
     "name": "stdout",
     "output_type": "stream",
     "text": [
      "Time complexity:  0.01615309715270996 seconds\n",
      "Space complexity:  164552 bytes or 160.6953125 KB\n"
     ]
    }
   ],
   "source": [
    "start_time = time.time() #start time\n",
    "tracemalloc.start() #start tracking memory usage\n",
    "\n",
    "# open the output file in write mode\n",
    "with open(\"Output.txt\", \"w\") as output_file:\n",
    "    for i in range(MAX_ITER):\n",
    "        best_value, best_v = hill_climb()\n",
    "        output_file.write(str(best_value) + \",\") # write the best value to the output file\n",
    "        \n",
    "end_time = time.time() #end time\n",
    "current, peak = tracemalloc.get_traced_memory()\n",
    "tracemalloc.stop() #stop tracking memory usage\n",
    "\n",
    "print(\"Time complexity: \", end_time - start_time, \"seconds\") #print the time complexity\n",
    "print(\"Space complexity: \", peak, \"bytes\", \"or\", peak/1024, \"KB\") #print the space complexity"
   ]
  },
  {
   "cell_type": "code",
   "execution_count": null,
   "id": "84d800e0",
   "metadata": {},
   "outputs": [],
   "source": []
  }
 ],
 "metadata": {
  "kernelspec": {
   "display_name": "Python 3 (ipykernel)",
   "language": "python",
   "name": "python3"
  },
  "language_info": {
   "codemirror_mode": {
    "name": "ipython",
    "version": 3
   },
   "file_extension": ".py",
   "mimetype": "text/x-python",
   "name": "python",
   "nbconvert_exporter": "python",
   "pygments_lexer": "ipython3",
   "version": "3.9.13"
  }
 },
 "nbformat": 4,
 "nbformat_minor": 5
}
