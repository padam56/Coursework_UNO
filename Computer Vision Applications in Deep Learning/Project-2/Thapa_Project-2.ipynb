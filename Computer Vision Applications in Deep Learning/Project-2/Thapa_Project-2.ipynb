{
 "cells": [
  {
   "cell_type": "markdown",
   "metadata": {},
   "source": [
    "# Part 1: Training a Custom CNN on CIFAR-10\n",
    "\n",
    "Develop a CNN with 2-3 convolutional layers, each followed by ReLU and pooling, and 2-3 fully connected MLP layers. Use filters sized as powers of two (16-256), with odd dimensions. Select an optimizer, use batch sizes of 32-128, apply dropout and regularization, implement real-time data augmentation, and train for at least 100 epochs to evaluate testing results."
   ]
  },
  {
   "cell_type": "code",
   "execution_count": 1,
   "metadata": {},
   "outputs": [],
   "source": [
    "import os\n",
    "import pickle\n",
    "import numpy as np\n",
    "import torch\n",
    "from torch import optim\n",
    "import torch.nn.functional as F\n",
    "import torch.nn as nn\n",
    "from torch.utils.data import DataLoader, TensorDataset\n",
    "import torchvision\n",
    "import torchvision.transforms as transforms\n",
    "import matplotlib.pyplot as plt"
   ]
  },
  {
   "cell_type": "code",
   "execution_count": 2,
   "metadata": {},
   "outputs": [
    {
     "name": "stdout",
     "output_type": "stream",
     "text": [
      "Using device: cuda:0\n"
     ]
    }
   ],
   "source": [
    "# Setting the device to GPU 0\n",
    "device = torch.device('cuda:0' if torch.cuda.is_available() else 'cpu')\n",
    "print(f\"Using device: {device}\")"
   ]
  },
  {
   "cell_type": "code",
   "execution_count": 3,
   "metadata": {},
   "outputs": [],
   "source": [
    "# Load a single CIFAR-10 batch\n",
    "def load_batch(file_path):\n",
    "    with open(file_path, 'rb') as file:\n",
    "        batch = pickle.load(file, encoding='bytes')\n",
    "    return batch"
   ]
  },
  {
   "cell_type": "code",
   "execution_count": 4,
   "metadata": {},
   "outputs": [],
   "source": [
    "# Converting labels to one-hot encoding\n",
    "def one_hot_encode(labels, num_classes=10):\n",
    "    return np.eye(num_classes)[labels]"
   ]
  },
  {
   "cell_type": "code",
   "execution_count": 5,
   "metadata": {},
   "outputs": [
    {
     "name": "stdout",
     "output_type": "stream",
     "text": [
      "Type of data_batch_1: <class 'dict'>\n",
      "Keys in data_batch_1: dict_keys([b'batch_label', b'labels', b'data', b'filenames'])\n"
     ]
    }
   ],
   "source": [
    "# Load a single batch\n",
    "file = '/home/pthapa2/snap/padam/Project2/cifar-10-batches-py/data_batch_1'\n",
    "data_batch_1 = load_batch(file)\n",
    "\n",
    "# Inspect the data structure\n",
    "print(f'Type of data_batch_1: {type(data_batch_1)}')\n",
    "print(f'Keys in data_batch_1: {data_batch_1.keys()}')"
   ]
  },
  {
   "cell_type": "code",
   "execution_count": 6,
   "metadata": {},
   "outputs": [
    {
     "name": "stdout",
     "output_type": "stream",
     "text": [
      "b'batch_label': <class 'bytes'>\n",
      "b'labels': <class 'list'>\n",
      "b'data': <class 'numpy.ndarray'>\n",
      "b'filenames': <class 'list'>\n",
      "Labels: {0, 1, 2, 3, 4, 5, 6, 7, 8, 9}\n"
     ]
    }
   ],
   "source": [
    "for item in data_batch_1:\n",
    "    print(f'{item}: {type(data_batch_1[item])}')\n",
    "\n",
    "print('Labels:', set(data_batch_1[b'labels']))"
   ]
  },
  {
   "cell_type": "code",
   "execution_count": 7,
   "metadata": {},
   "outputs": [
    {
     "name": "stdout",
     "output_type": "stream",
     "text": [
      "Label names: ['airplane', 'automobile', 'bird', 'cat', 'deer', 'dog', 'frog', 'horse', 'ship', 'truck']\n"
     ]
    }
   ],
   "source": [
    "# Load metadata for label names\n",
    "meta_file = '/home/pthapa2/snap/padam/Project2/cifar-10-batches-py/batches.meta'\n",
    "meta_data = load_batch(meta_file)\n",
    "\n",
    "# Display label names\n",
    "print('Label names:', [name.decode('utf-8') for name in meta_data[b'label_names']])"
   ]
  },
  {
   "cell_type": "code",
   "execution_count": 8,
   "metadata": {},
   "outputs": [
    {
     "name": "stdout",
     "output_type": "stream",
     "text": [
      "Training data shape before reshape: (50000, 3072)\n",
      "Training data shape after reshape: (50000, 3, 32, 32)\n"
     ]
    }
   ],
   "source": [
    "# Concatenate all training batches\n",
    "all_data, all_labels = [], []\n",
    "for batch_num in range(1, 6):\n",
    "    batch_filename = f\"/home/pthapa2/snap/padam/Project2/cifar-10-batches-py/data_batch_{batch_num}\"\n",
    "    batch_data = load_batch(batch_filename)\n",
    "    all_data.append(batch_data[b'data'])\n",
    "    all_labels.extend(batch_data[b'labels'])\n",
    "\n",
    "x_train = np.vstack(all_data)\n",
    "y_train = np.array(all_labels)\n",
    "\n",
    "print(\"Training data shape before reshape:\", x_train.shape)\n",
    "x_train = x_train.reshape(len(x_train), 3, 32, 32)\n",
    "print(\"Training data shape after reshape:\", x_train.shape)"
   ]
  },
  {
   "cell_type": "markdown",
   "metadata": {},
   "source": [
    "#### So, The dataset consists of 50,000 training samples, each originally having 3,072 features. These samples have been reshaped into dimensions of (50,000, 3, 32, 32), representing the format (number of samples, channels, height, width) for image processing."
   ]
  },
  {
   "cell_type": "code",
   "execution_count": 9,
   "metadata": {},
   "outputs": [],
   "source": [
    "# Prepare training data for PyTorch\n",
    "x_train = x_train.astype('float32') / 255.0\n",
    "y_train_one_hot = one_hot_encode(y_train)\n",
    "\n",
    "train_dataset = TensorDataset(torch.from_numpy(x_train), torch.from_numpy(y_train_one_hot))\n",
    "train_loader = DataLoader(train_dataset, batch_size=128, shuffle=True)"
   ]
  },
  {
   "cell_type": "code",
   "execution_count": 10,
   "metadata": {},
   "outputs": [
    {
     "name": "stdout",
     "output_type": "stream",
     "text": [
      "Test data shape before reshape: (10000, 3072)\n",
      "Test data shape after reshape: (10000, 3, 32, 32)\n"
     ]
    }
   ],
   "source": [
    "# Load and process test data\n",
    "test_file = '/home/pthapa2/snap/padam/Project2/cifar-10-batches-py/test_batch'\n",
    "test_data = load_batch(test_file)\n",
    "x_test = test_data[b'data'].astype('float32') / 255.0\n",
    "y_test = np.array(test_data[b'labels'])\n",
    "print(\"Test data shape before reshape:\", x_test.shape)\n",
    "x_test = x_test.reshape(len(x_test), 3, 32, 32)\n",
    "y_test_one_hot = one_hot_encode(y_test)\n",
    "\n",
    "test_dataset = TensorDataset(torch.from_numpy(x_test), torch.from_numpy(y_test_one_hot))\n",
    "test_loader = DataLoader(test_dataset, batch_size=128, shuffle=False)\n",
    "\n",
    "print(\"Test data shape after reshape:\", x_test.shape)"
   ]
  },
  {
   "cell_type": "markdown",
   "metadata": {},
   "source": [
    "### REPORTING:"
   ]
  },
  {
   "cell_type": "code",
   "execution_count": 11,
   "metadata": {},
   "outputs": [
    {
     "name": "stdout",
     "output_type": "stream",
     "text": [
      "Data Type: Images\n",
      "Color Type: RGB\n",
      "Number of Classes: 10\n",
      "Number of Samples: 60000\n",
      "Each Sample Dimensions: (3, 32, 32)\n",
      "Training Size: 50000\n",
      "Testing Size: 10000\n"
     ]
    }
   ],
   "source": [
    "# REPORTING\n",
    "print(\"Data Type: Images\")\n",
    "print(\"Color Type: RGB\")\n",
    "print(\"Number of Classes:\", len(set(y_train)))\n",
    "print(\"Number of Samples:\", len(x_train) + len(x_test))\n",
    "print(\"Each Sample Dimensions:\", x_train.shape[1:])\n",
    "print(\"Training Size:\", len(x_train))\n",
    "print(\"Testing Size:\", len(x_test))"
   ]
  },
  {
   "cell_type": "code",
   "execution_count": 12,
   "metadata": {},
   "outputs": [
    {
     "data": {
      "image/png": "[encoded data removed]",
      "text/plain": [
       "<Figure size 640x480 with 1 Axes>"
      ]
     },
     "metadata": {},
     "output_type": "display_data"
    }
   ],
   "source": [
    "# sample image from the dataset\n",
    "import matplotlib.pyplot as plt\n",
    "\n",
    "def show_sample_image(data, index=1):\n",
    "    img = data[index].reshape(3, 32, 32).transpose(1, 2, 0)\n",
    "    plt.imshow(img)\n",
    "    plt.axis('off')\n",
    "    plt.title('Sample Image')\n",
    "    plt.show()\n",
    "\n",
    "show_sample_image(x_train)"
   ]
  },
  {
   "cell_type": "code",
   "execution_count": 13,
   "metadata": {},
   "outputs": [],
   "source": [
    "# Defining real-time data augmentation transformations for training\n",
    "transform_train = transforms.Compose([\n",
    "    transforms.RandomHorizontalFlip(), \n",
    "    transforms.RandomCrop(32, padding=4),  \n",
    "    transforms.RandomRotation(10),\n",
    "    transforms.ColorJitter(brightness=0.2, contrast=0.2, saturation=0.2, hue=0.1), \n",
    "    transforms.ToTensor(), \n",
    "    transforms.Normalize((0.5, 0.5, 0.5), (0.5, 0.5, 0.5)) \n",
    "])\n",
    "\n",
    "# Define transformations for testing (no augmentation)\n",
    "transform_test = transforms.Compose([\n",
    "    transforms.ToTensor(),\n",
    "    transforms.Normalize((0.5, 0.5, 0.5), (0.5, 0.5, 0.5))\n",
    "])"
   ]
  },
  {
   "cell_type": "code",
   "execution_count": 14,
   "metadata": {},
   "outputs": [
    {
     "name": "stdout",
     "output_type": "stream",
     "text": [
      "Files already downloaded and verified\n",
      "Files already downloaded and verified\n"
     ]
    }
   ],
   "source": [
    "# Load datasets\n",
    "data_dir = './data'\n",
    "trainset = torchvision.datasets.CIFAR10(root=data_dir, train=True, download=True, transform=transform_train)\n",
    "testset = torchvision.datasets.CIFAR10(root=data_dir, train=False, download=True, transform=transform_test)"
   ]
  },
  {
   "cell_type": "code",
   "execution_count": 15,
   "metadata": {},
   "outputs": [
    {
     "data": {
      "text/plain": [
       "Dataset CIFAR10\n",
       "    Number of datapoints: 50000\n",
       "    Root location: ./data\n",
       "    Split: Train\n",
       "    StandardTransform\n",
       "Transform: Compose(\n",
       "               RandomHorizontalFlip(p=0.5)\n",
       "               RandomCrop(size=(32, 32), padding=4)\n",
       "               RandomRotation(degrees=[-10.0, 10.0], interpolation=nearest, expand=False, fill=0)\n",
       "               ColorJitter(brightness=(0.8, 1.2), contrast=(0.8, 1.2), saturation=(0.8, 1.2), hue=(-0.1, 0.1))\n",
       "               ToTensor()\n",
       "               Normalize(mean=(0.5, 0.5, 0.5), std=(0.5, 0.5, 0.5))\n",
       "           )"
      ]
     },
     "execution_count": 15,
     "metadata": {},
     "output_type": "execute_result"
    }
   ],
   "source": [
    "trainset"
   ]
  },
  {
   "cell_type": "code",
   "execution_count": 16,
   "metadata": {},
   "outputs": [
    {
     "data": {
      "text/plain": [
       "Dataset CIFAR10\n",
       "    Number of datapoints: 10000\n",
       "    Root location: ./data\n",
       "    Split: Test\n",
       "    StandardTransform\n",
       "Transform: Compose(\n",
       "               ToTensor()\n",
       "               Normalize(mean=(0.5, 0.5, 0.5), std=(0.5, 0.5, 0.5))\n",
       "           )"
      ]
     },
     "execution_count": 16,
     "metadata": {},
     "output_type": "execute_result"
    }
   ],
   "source": [
    "testset"
   ]
  },
  {
   "cell_type": "code",
   "execution_count": 17,
   "metadata": {},
   "outputs": [],
   "source": [
    "# Split the training set into training and validation sets\n",
    "total_train_size = len(trainset)\n",
    "val_size = int(0.1 * total_train_size)  # 10% for validation\n",
    "train_size = total_train_size - val_size"
   ]
  },
  {
   "cell_type": "code",
   "execution_count": 18,
   "metadata": {},
   "outputs": [],
   "source": [
    "from torch.utils.data import random_split\n",
    "train_subset, val_subset = random_split(trainset, [train_size, val_size])"
   ]
  },
  {
   "cell_type": "code",
   "execution_count": 19,
   "metadata": {},
   "outputs": [],
   "source": [
    "# Create DataLoaders for each subset\n",
    "num_workers = 8\n",
    "trainloader = DataLoader(train_subset, batch_size=128, shuffle=True, num_workers=num_workers, pin_memory=True)\n",
    "valloader = DataLoader(val_subset, batch_size=128, shuffle=False, num_workers=num_workers, pin_memory=True)\n",
    "testloader = DataLoader(testset, batch_size=128, shuffle=False, num_workers=num_workers, pin_memory=True)\n"
   ]
  },
  {
   "cell_type": "code",
   "execution_count": 20,
   "metadata": {},
   "outputs": [],
   "source": [
    "#!pip install torchsummary\n",
    "from torchsummary import summary\n"
   ]
  },
  {
   "cell_type": "code",
   "execution_count": 21,
   "metadata": {},
   "outputs": [
    {
     "name": "stdout",
     "output_type": "stream",
     "text": [
      "----------------------------------------------------------------\n",
      "        Layer (type)               Output Shape         Param #\n",
      "================================================================\n",
      "            Conv2d-1           [-1, 16, 32, 32]             448\n",
      "         MaxPool2d-2           [-1, 16, 16, 16]               0\n",
      "            Conv2d-3           [-1, 64, 16, 16]           9,280\n",
      "         MaxPool2d-4             [-1, 64, 8, 8]               0\n",
      "            Conv2d-5            [-1, 256, 8, 8]         147,712\n",
      "         MaxPool2d-6            [-1, 256, 4, 4]               0\n",
      "            Linear-7                  [-1, 512]       2,097,664\n",
      "           Dropout-8                  [-1, 512]               0\n",
      "            Linear-9                  [-1, 128]          65,664\n",
      "           Linear-10                   [-1, 10]           1,290\n",
      "================================================================\n",
      "Total params: 2,322,058\n",
      "Trainable params: 2,322,058\n",
      "Non-trainable params: 0\n",
      "----------------------------------------------------------------\n",
      "Input size (MB): 0.01\n",
      "Forward/backward pass size (MB): 0.48\n",
      "Params size (MB): 8.86\n",
      "Estimated Total Size (MB): 9.35\n",
      "----------------------------------------------------------------\n"
     ]
    }
   ],
   "source": [
    "# Define the CNN model\n",
    "import torch.nn as nn\n",
    "import torch.nn.functional as F\n",
    "\n",
    "class CustomCNN(nn.Module):\n",
    "    def __init__(self):\n",
    "        super(CustomCNN, self).__init__()\n",
    "        self.conv1 = nn.Conv2d(in_channels=3, out_channels=16, kernel_size=3, padding=1)\n",
    "        self.conv2 = nn.Conv2d(in_channels=16, out_channels=64, kernel_size=3, padding=1)\n",
    "        self.conv3 = nn.Conv2d(in_channels=64, out_channels=256, kernel_size=3, padding=1)\n",
    "        self.pool = nn.MaxPool2d(kernel_size=2,stride=2)\n",
    "        self.dropout = nn.Dropout(0.5)\n",
    "        self.fc1 = nn.Linear(256*4*4,512)\n",
    "        self.fc2 = nn.Linear(512,128)\n",
    "        self.fc3 = nn.Linear(128,10)\n",
    "\n",
    "    def forward(self,x):\n",
    "        x=self.pool(F.relu(self.conv1(x)))\n",
    "        x=self.pool(F.relu(self.conv2(x)))\n",
    "        x=self.pool(F.relu(self.conv3(x)))\n",
    "        x=x.view(-1 ,256 *4 *4)\n",
    "        x=F.relu(self.fc1(x))\n",
    "        x=self.dropout(x)\n",
    "        x=F.relu(self.fc2(x))\n",
    "        x=self.fc3(x)\n",
    "        return x\n",
    "\n",
    "# Instantiating the model \n",
    "device=torch.device(\"cuda\" if torch.cuda.is_available() else \"cpu\")\n",
    "model0=CustomCNN().to(device)\n",
    "\n",
    "# model summary\n",
    "summary(model0,input_size=(3,32,32))"
   ]
  },
  {
   "cell_type": "code",
   "execution_count": 22,
   "metadata": {},
   "outputs": [],
   "source": [
    "# Function to calculate accuracy\n",
    "def accuracy(predictions, labels):\n",
    "    return (predictions.argmax(dim=1) == labels).float().mean().item()"
   ]
  },
  {
   "cell_type": "code",
   "execution_count": 23,
   "metadata": {},
   "outputs": [],
   "source": [
    "criterion = nn.CrossEntropyLoss()\n",
    "optimizer = optim.Adam(model0.parameters(), lr=0.001, weight_decay=1e-5)"
   ]
  },
  {
   "cell_type": "code",
   "execution_count": 24,
   "metadata": {},
   "outputs": [],
   "source": [
    "def train(dataloader, model, criterion, optimizer):\n",
    "    model.train()\n",
    "    total_loss = 0\n",
    "    total_accuracy = 0\n",
    "    for X, Y in dataloader:\n",
    "        X, Y = X.to(device), Y.to(device)\n",
    "\n",
    "        # Forward pass\n",
    "        pred = model(X)\n",
    "        loss = criterion(pred, Y)\n",
    "\n",
    "        # Backward pass and optimization\n",
    "        optimizer.zero_grad()\n",
    "        loss.backward()\n",
    "        optimizer.step()\n",
    "\n",
    "        total_loss += loss.item()\n",
    "        total_accuracy += (pred.argmax(dim=1) == Y).sum().item()\n",
    "\n",
    "    avg_loss = total_loss / len(dataloader)\n",
    "    avg_accuracy = total_accuracy / len(dataloader.dataset)\n",
    "\n",
    "    return avg_loss, avg_accuracy"
   ]
  },
  {
   "cell_type": "code",
   "execution_count": 25,
   "metadata": {},
   "outputs": [],
   "source": [
    "def validate(dataloader, model, criterion):\n",
    "    model.eval()\n",
    "    total_loss = 0\n",
    "    total_accuracy = 0\n",
    "    with torch.no_grad():\n",
    "        for X, Y in dataloader:\n",
    "            X, Y = X.to(device), Y.to(device)\n",
    "            pred = model(X)\n",
    "            loss = criterion(pred, Y)\n",
    "\n",
    "            total_loss += loss.item()\n",
    "            total_accuracy += (pred.argmax(dim=1) == Y).sum().item()\n",
    "\n",
    "    avg_loss = total_loss / len(dataloader)\n",
    "    avg_accuracy = total_accuracy / len(dataloader.dataset)\n",
    "\n",
    "    return avg_loss, avg_accuracy"
   ]
  },
  {
   "cell_type": "code",
   "execution_count": 26,
   "metadata": {},
   "outputs": [],
   "source": [
    "# Evaluation on test set after training is complete\n",
    "def test(dataloader, model):\n",
    "    model.eval()\n",
    "    total_accuracy = 0\n",
    "    with torch.no_grad():\n",
    "        for X, Y in dataloader:\n",
    "            X, Y = X.to(device), Y.to(device)\n",
    "            pred = model(X)\n",
    "            total_accuracy += (pred.argmax(dim=1) == Y).sum().item()\n",
    "\n",
    "    avg_accuracy = total_accuracy / len(dataloader.dataset)\n",
    "    return avg_accuracy"
   ]
  },
  {
   "cell_type": "code",
   "execution_count": 27,
   "metadata": {},
   "outputs": [
    {
     "name": "stdout",
     "output_type": "stream",
     "text": [
      "Experiment with Initial Custom CNN:\n",
      "Epoch 1/100, Train Loss: 1.7827, Train Acc: 0.3309, Val Loss: 1.5528, Val Acc: 0.4304\n",
      "Epoch 2/100, Train Loss: 1.4851, Train Acc: 0.4572, Val Loss: 1.3845, Val Acc: 0.5030\n",
      "Epoch 3/100, Train Loss: 1.3275, Train Acc: 0.5186, Val Loss: 1.2847, Val Acc: 0.5392\n",
      "Epoch 4/100, Train Loss: 1.2223, Train Acc: 0.5632, Val Loss: 1.1122, Val Acc: 0.6048\n",
      "Epoch 5/100, Train Loss: 1.1286, Train Acc: 0.5992, Val Loss: 1.0945, Val Acc: 0.6198\n",
      "Epoch 6/100, Train Loss: 1.0669, Train Acc: 0.6231, Val Loss: 1.0006, Val Acc: 0.6464\n",
      "Epoch 7/100, Train Loss: 1.0175, Train Acc: 0.6392, Val Loss: 0.9604, Val Acc: 0.6666\n",
      "Epoch 8/100, Train Loss: 0.9706, Train Acc: 0.6604, Val Loss: 0.9099, Val Acc: 0.6868\n",
      "Epoch 9/100, Train Loss: 0.9338, Train Acc: 0.6724, Val Loss: 0.8982, Val Acc: 0.6940\n",
      "Epoch 10/100, Train Loss: 0.9045, Train Acc: 0.6850, Val Loss: 0.8918, Val Acc: 0.6954\n",
      "Epoch 11/100, Train Loss: 0.8805, Train Acc: 0.6942, Val Loss: 0.8244, Val Acc: 0.7198\n",
      "Epoch 12/100, Train Loss: 0.8470, Train Acc: 0.7042, Val Loss: 0.8507, Val Acc: 0.7036\n",
      "Epoch 13/100, Train Loss: 0.8455, Train Acc: 0.7053, Val Loss: 0.8163, Val Acc: 0.7238\n",
      "Epoch 14/100, Train Loss: 0.8145, Train Acc: 0.7154, Val Loss: 0.7818, Val Acc: 0.7320\n",
      "Epoch 15/100, Train Loss: 0.7946, Train Acc: 0.7217, Val Loss: 0.7711, Val Acc: 0.7328\n",
      "Epoch 16/100, Train Loss: 0.7915, Train Acc: 0.7240, Val Loss: 0.7760, Val Acc: 0.7312\n",
      "Epoch 17/100, Train Loss: 0.7783, Train Acc: 0.7290, Val Loss: 0.7916, Val Acc: 0.7334\n",
      "Epoch 18/100, Train Loss: 0.7682, Train Acc: 0.7332, Val Loss: 0.7590, Val Acc: 0.7380\n",
      "Epoch 19/100, Train Loss: 0.7573, Train Acc: 0.7364, Val Loss: 0.7846, Val Acc: 0.7350\n",
      "Epoch 20/100, Train Loss: 0.7406, Train Acc: 0.7425, Val Loss: 0.7576, Val Acc: 0.7494\n",
      "Epoch 21/100, Train Loss: 0.7304, Train Acc: 0.7466, Val Loss: 0.7214, Val Acc: 0.7498\n",
      "Epoch 22/100, Train Loss: 0.7215, Train Acc: 0.7503, Val Loss: 0.7143, Val Acc: 0.7610\n",
      "Epoch 23/100, Train Loss: 0.7163, Train Acc: 0.7493, Val Loss: 0.6958, Val Acc: 0.7580\n",
      "Epoch 24/100, Train Loss: 0.6998, Train Acc: 0.7572, Val Loss: 0.7297, Val Acc: 0.7610\n",
      "Epoch 25/100, Train Loss: 0.6975, Train Acc: 0.7595, Val Loss: 0.7159, Val Acc: 0.7600\n",
      "Epoch 26/100, Train Loss: 0.6858, Train Acc: 0.7625, Val Loss: 0.7191, Val Acc: 0.7538\n",
      "Epoch 27/100, Train Loss: 0.6847, Train Acc: 0.7631, Val Loss: 0.6850, Val Acc: 0.7666\n",
      "Epoch 28/100, Train Loss: 0.6758, Train Acc: 0.7669, Val Loss: 0.6825, Val Acc: 0.7694\n",
      "Epoch 29/100, Train Loss: 0.6694, Train Acc: 0.7687, Val Loss: 0.7008, Val Acc: 0.7744\n",
      "Epoch 30/100, Train Loss: 0.6673, Train Acc: 0.7681, Val Loss: 0.6685, Val Acc: 0.7666\n",
      "Epoch 31/100, Train Loss: 0.6618, Train Acc: 0.7702, Val Loss: 0.6991, Val Acc: 0.7588\n",
      "Epoch 32/100, Train Loss: 0.6489, Train Acc: 0.7726, Val Loss: 0.6940, Val Acc: 0.7684\n",
      "Epoch 33/100, Train Loss: 0.6518, Train Acc: 0.7738, Val Loss: 0.7063, Val Acc: 0.7612\n",
      "Epoch 34/100, Train Loss: 0.6437, Train Acc: 0.7779, Val Loss: 0.6947, Val Acc: 0.7592\n",
      "Epoch 35/100, Train Loss: 0.6349, Train Acc: 0.7777, Val Loss: 0.6849, Val Acc: 0.7660\n",
      "Epoch 36/100, Train Loss: 0.6295, Train Acc: 0.7802, Val Loss: 0.6451, Val Acc: 0.7782\n",
      "Epoch 37/100, Train Loss: 0.6257, Train Acc: 0.7836, Val Loss: 0.6703, Val Acc: 0.7682\n",
      "Epoch 38/100, Train Loss: 0.6227, Train Acc: 0.7852, Val Loss: 0.6438, Val Acc: 0.7760\n",
      "Epoch 39/100, Train Loss: 0.6207, Train Acc: 0.7871, Val Loss: 0.6373, Val Acc: 0.7854\n",
      "Epoch 40/100, Train Loss: 0.6115, Train Acc: 0.7883, Val Loss: 0.6593, Val Acc: 0.7792\n",
      "Epoch 41/100, Train Loss: 0.6151, Train Acc: 0.7881, Val Loss: 0.6569, Val Acc: 0.7716\n",
      "Epoch 42/100, Train Loss: 0.6007, Train Acc: 0.7915, Val Loss: 0.6648, Val Acc: 0.7802\n",
      "Epoch 43/100, Train Loss: 0.5998, Train Acc: 0.7926, Val Loss: 0.6080, Val Acc: 0.7968\n",
      "Epoch 44/100, Train Loss: 0.6038, Train Acc: 0.7905, Val Loss: 0.6594, Val Acc: 0.7770\n",
      "Epoch 45/100, Train Loss: 0.5941, Train Acc: 0.7924, Val Loss: 0.6582, Val Acc: 0.7794\n",
      "Epoch 46/100, Train Loss: 0.5814, Train Acc: 0.7994, Val Loss: 0.6581, Val Acc: 0.7772\n",
      "Epoch 47/100, Train Loss: 0.5862, Train Acc: 0.7970, Val Loss: 0.6359, Val Acc: 0.7880\n",
      "Epoch 48/100, Train Loss: 0.5859, Train Acc: 0.7994, Val Loss: 0.6334, Val Acc: 0.7904\n",
      "Epoch 49/100, Train Loss: 0.5804, Train Acc: 0.7986, Val Loss: 0.6276, Val Acc: 0.7910\n",
      "Epoch 50/100, Train Loss: 0.5812, Train Acc: 0.7997, Val Loss: 0.6330, Val Acc: 0.7874\n",
      "Epoch 51/100, Train Loss: 0.5718, Train Acc: 0.8003, Val Loss: 0.6401, Val Acc: 0.7838\n",
      "Epoch 52/100, Train Loss: 0.5698, Train Acc: 0.8032, Val Loss: 0.6132, Val Acc: 0.7954\n",
      "Epoch 53/100, Train Loss: 0.5701, Train Acc: 0.8016, Val Loss: 0.6312, Val Acc: 0.7902\n",
      "Epoch 54/100, Train Loss: 0.5680, Train Acc: 0.8035, Val Loss: 0.6118, Val Acc: 0.7940\n",
      "Epoch 55/100, Train Loss: 0.5588, Train Acc: 0.8058, Val Loss: 0.6085, Val Acc: 0.7924\n",
      "Epoch 56/100, Train Loss: 0.5604, Train Acc: 0.8072, Val Loss: 0.6050, Val Acc: 0.7912\n",
      "Epoch 57/100, Train Loss: 0.5550, Train Acc: 0.8056, Val Loss: 0.6146, Val Acc: 0.7910\n",
      "Epoch 58/100, Train Loss: 0.5510, Train Acc: 0.8093, Val Loss: 0.6377, Val Acc: 0.7858\n",
      "Epoch 59/100, Train Loss: 0.5510, Train Acc: 0.8068, Val Loss: 0.6086, Val Acc: 0.7958\n",
      "Epoch 60/100, Train Loss: 0.5497, Train Acc: 0.8082, Val Loss: 0.6186, Val Acc: 0.7938\n",
      "Epoch 61/100, Train Loss: 0.5469, Train Acc: 0.8116, Val Loss: 0.6221, Val Acc: 0.8022\n",
      "Epoch 62/100, Train Loss: 0.5452, Train Acc: 0.8107, Val Loss: 0.5904, Val Acc: 0.8012\n",
      "Epoch 63/100, Train Loss: 0.5459, Train Acc: 0.8102, Val Loss: 0.6028, Val Acc: 0.7974\n",
      "Epoch 64/100, Train Loss: 0.5404, Train Acc: 0.8116, Val Loss: 0.6103, Val Acc: 0.8010\n",
      "Epoch 65/100, Train Loss: 0.5347, Train Acc: 0.8153, Val Loss: 0.6074, Val Acc: 0.7928\n",
      "Epoch 66/100, Train Loss: 0.5304, Train Acc: 0.8152, Val Loss: 0.6407, Val Acc: 0.7880\n",
      "Epoch 67/100, Train Loss: 0.5313, Train Acc: 0.8150, Val Loss: 0.5970, Val Acc: 0.7964\n",
      "Epoch 68/100, Train Loss: 0.5312, Train Acc: 0.8157, Val Loss: 0.6162, Val Acc: 0.7938\n",
      "Epoch 69/100, Train Loss: 0.5253, Train Acc: 0.8167, Val Loss: 0.5982, Val Acc: 0.7958\n",
      "Epoch 70/100, Train Loss: 0.5264, Train Acc: 0.8185, Val Loss: 0.5971, Val Acc: 0.7974\n",
      "Epoch 71/100, Train Loss: 0.5321, Train Acc: 0.8142, Val Loss: 0.5875, Val Acc: 0.8046\n",
      "Epoch 72/100, Train Loss: 0.5219, Train Acc: 0.8186, Val Loss: 0.5832, Val Acc: 0.8014\n",
      "Epoch 73/100, Train Loss: 0.5174, Train Acc: 0.8189, Val Loss: 0.5977, Val Acc: 0.7988\n",
      "Epoch 74/100, Train Loss: 0.5148, Train Acc: 0.8221, Val Loss: 0.6216, Val Acc: 0.7944\n",
      "Epoch 75/100, Train Loss: 0.5114, Train Acc: 0.8230, Val Loss: 0.5883, Val Acc: 0.7986\n",
      "Epoch 76/100, Train Loss: 0.5162, Train Acc: 0.8211, Val Loss: 0.5911, Val Acc: 0.8004\n",
      "Epoch 77/100, Train Loss: 0.5100, Train Acc: 0.8230, Val Loss: 0.6142, Val Acc: 0.7952\n",
      "Epoch 78/100, Train Loss: 0.5050, Train Acc: 0.8246, Val Loss: 0.5978, Val Acc: 0.8022\n",
      "Epoch 79/100, Train Loss: 0.5109, Train Acc: 0.8237, Val Loss: 0.6132, Val Acc: 0.7970\n",
      "Epoch 80/100, Train Loss: 0.5077, Train Acc: 0.8232, Val Loss: 0.5749, Val Acc: 0.8046\n",
      "Epoch 81/100, Train Loss: 0.5063, Train Acc: 0.8250, Val Loss: 0.5823, Val Acc: 0.8024\n",
      "Epoch 82/100, Train Loss: 0.4983, Train Acc: 0.8265, Val Loss: 0.5955, Val Acc: 0.8000\n",
      "Epoch 83/100, Train Loss: 0.5016, Train Acc: 0.8254, Val Loss: 0.5698, Val Acc: 0.8100\n",
      "Epoch 84/100, Train Loss: 0.4969, Train Acc: 0.8245, Val Loss: 0.5959, Val Acc: 0.7980\n",
      "Epoch 85/100, Train Loss: 0.5007, Train Acc: 0.8267, Val Loss: 0.6123, Val Acc: 0.7932\n",
      "Epoch 86/100, Train Loss: 0.4978, Train Acc: 0.8284, Val Loss: 0.5855, Val Acc: 0.8054\n",
      "Epoch 87/100, Train Loss: 0.4905, Train Acc: 0.8280, Val Loss: 0.5494, Val Acc: 0.8048\n",
      "Epoch 88/100, Train Loss: 0.4893, Train Acc: 0.8317, Val Loss: 0.5930, Val Acc: 0.8028\n",
      "Epoch 89/100, Train Loss: 0.5003, Train Acc: 0.8263, Val Loss: 0.5794, Val Acc: 0.8072\n",
      "Epoch 90/100, Train Loss: 0.4901, Train Acc: 0.8301, Val Loss: 0.5799, Val Acc: 0.7988\n",
      "Epoch 91/100, Train Loss: 0.4906, Train Acc: 0.8303, Val Loss: 0.5818, Val Acc: 0.7976\n",
      "Epoch 92/100, Train Loss: 0.4806, Train Acc: 0.8332, Val Loss: 0.5774, Val Acc: 0.8146\n",
      "Epoch 93/100, Train Loss: 0.4895, Train Acc: 0.8283, Val Loss: 0.5820, Val Acc: 0.8022\n",
      "Epoch 94/100, Train Loss: 0.4785, Train Acc: 0.8337, Val Loss: 0.5725, Val Acc: 0.8044\n",
      "Epoch 95/100, Train Loss: 0.4835, Train Acc: 0.8320, Val Loss: 0.5683, Val Acc: 0.8088\n",
      "Epoch 96/100, Train Loss: 0.4801, Train Acc: 0.8334, Val Loss: 0.5693, Val Acc: 0.8158\n",
      "Epoch 97/100, Train Loss: 0.4800, Train Acc: 0.8346, Val Loss: 0.5808, Val Acc: 0.8154\n",
      "Epoch 98/100, Train Loss: 0.4807, Train Acc: 0.8336, Val Loss: 0.5848, Val Acc: 0.8016\n",
      "Epoch 99/100, Train Loss: 0.4744, Train Acc: 0.8344, Val Loss: 0.5621, Val Acc: 0.8158\n",
      "Epoch 100/100, Train Loss: 0.4749, Train Acc: 0.8351, Val Loss: 0.5696, Val Acc: 0.8078\n",
      "The final result of testing accuracy for CustomCNN after training for 100 epochs is 83.82%\n"
     ]
    }
   ],
   "source": [
    "# # Training loop with plotting data collection\n",
    "# torch.manual_seed(42)\n",
    "# torch.cuda.manual_seed(42)\n",
    "\n",
    "# num_epochs=100 \n",
    "# train_losses=[]\n",
    "# train_accuracies=[]\n",
    "# val_losses=[]\n",
    "# val_accuracies=[]\n",
    "\n",
    "# for epoch in range(num_epochs):\n",
    "#     train_loss ,train_acc=train(trainloader, model0, criterion, optimizer)\n",
    "#     val_loss ,val_acc=validate(valloader, model0, criterion)\n",
    "\n",
    "#     train_losses.append(train_loss)\n",
    "#     train_accuracies.append(train_acc)\n",
    "#     val_losses.append(val_loss)\n",
    "#     val_accuracies.append(val_acc)\n",
    "\n",
    "#     print(f'Epoch {epoch+1}/{num_epochs}, '\n",
    "#           f'Train Loss: {train_loss:.4f}, Train Acc: {train_acc:.4f}, '\n",
    "#           f'Val Loss: {val_loss:.4f}, Val Acc: {val_acc:.4f}')\n",
    "\n",
    "# Made better function as run_experiment:\n",
    "def run_experiment(trainloader, testloader, model_class):\n",
    "    torch.manual_seed(42)\n",
    "    torch.cuda.manual_seed(42)\n",
    "    \n",
    "    model = model_class().to(device)\n",
    "    criterion = nn.CrossEntropyLoss()\n",
    "    optimizer = optim.Adam(model.parameters(), lr=0.001, weight_decay=1e-5)\n",
    "\n",
    "    num_epochs = 100\n",
    "    train_losses = []\n",
    "    train_accuracies = []\n",
    "    val_losses = []\n",
    "    val_accuracies = []\n",
    "\n",
    "    for epoch in range(num_epochs):\n",
    "        train_loss, train_acc = train(trainloader, model, criterion, optimizer)\n",
    "        val_loss, val_acc = validate(valloader, model, criterion)\n",
    "\n",
    "        train_losses.append(train_loss)\n",
    "        train_accuracies.append(train_acc)\n",
    "        val_losses.append(val_loss)\n",
    "        val_accuracies.append(val_acc)\n",
    "\n",
    "        print(f'Epoch {epoch+1}/{num_epochs}, '\n",
    "              f'Train Loss: {train_loss:.4f}, Train Acc: {train_acc:.4f}, '\n",
    "              f'Val Loss: {val_loss:.4f}, Val Acc: {val_acc:.4f}')\n",
    "\n",
    "    # Evaluate on the test set\n",
    "    test_acc = test(testloader, model)\n",
    "    print(f'The final result of testing accuracy for CustomCNN after training for {num_epochs} epochs is {test_acc * 100:.2f}%')\n",
    "\n",
    "print(\"Experiment with Initial Custom CNN:\")\n",
    "run_experiment(trainloader, testloader, CustomCNN)"
   ]
  },
  {
   "cell_type": "code",
   "execution_count": 63,
   "metadata": {},
   "outputs": [
    {
     "data": {
      "image/png": "[encoded data removed]",
      "text/plain": [
       "<Figure size 1000x500 with 2 Axes>"
      ]
     },
     "metadata": {},
     "output_type": "display_data"
    }
   ],
   "source": [
    "import random\n",
    "\n",
    "def imshow(img, ax):\n",
    "    ax.imshow(np.transpose((img / 2 + 0.5).numpy(), (1, 2, 0)))\n",
    "    ax.axis('off')\n",
    "\n",
    "def plot_examples(model, dataloader, classes, device):\n",
    "    model.eval()\n",
    "    images, labels = next(iter(dataloader))\n",
    "    images, labels = images.to(device), labels.to(device)\n",
    "    _, predicted = torch.max(model(images), 1)\n",
    "\n",
    "    correct_index = random.choice((predicted == labels).nonzero(as_tuple=True)[0]).item()\n",
    "    misclassified_index = random.choice((predicted != labels).nonzero(as_tuple=True)[0]).item()\n",
    "\n",
    "    fig, axes = plt.subplots(1, 2, figsize=(10, 5))\n",
    "    \n",
    "    for idx, ax, title in zip([correct_index, misclassified_index], axes, [\"Correct\", \"Misclassified\"]):\n",
    "        imshow(images[idx].cpu(), ax)\n",
    "        ax.set_title(f\"{title}\\nTrue: {classes[labels[idx].item()]}\\nPred: {classes[predicted[idx].item()]}\")\n",
    "\n",
    "    plt.tight_layout()\n",
    "    plt.show()\n",
    "\n",
    "# class names for CIFAR-10\n",
    "classes = ['airplane', 'automobile', 'bird', 'cat', 'deer', \n",
    "           'dog', 'frog', 'horse', 'ship', 'truck']\n",
    "\n",
    "# Call the function to plot classification examples\n",
    "plot_examples(model0, testloader, classes, device)"
   ]
  },
  {
   "cell_type": "markdown",
   "metadata": {},
   "source": [
    "# Part 2 -- Graduate Students\n",
    "\n",
    "For each of the following experiments run 10-20 epocs and observe the cost function. Determine the best setup based on the runs.\n",
    "\n",
    "**Did for 30 epochs to see the broader view, because at one point Increasing  Filter Size CNN gave me the best accuracy by 1-2% on 20 epochs while now with some modifications SmallFilterSizeCNN is giving me the best results.**\n",
    "\n",
    "1. Experiment with all convolutional layers having the same small filter size (e.g. 3x3)\n",
    "2. Experiment with all convolutional layers having the same large filter size (e.g. 15x15)\n",
    "3. Experiment with convolutional layers with increasing filter size (e.g. 3x3, 5x5, 7x7)\n",
    "4. Experiment with convolutional layers with decreasing filter size (e.g. 7x7, 5x5, 3x3)\n",
    "5. Experiment with L1 regularization, L2 regularization, dropout combination.\n",
    "6. Experiment with and without data augmentation.\n",
    "\n",
    "7. Generate a short report on based on the above experiment and upload it with your code . You can simply tabulate your results and provide a short analysis.\n"
   ]
  },
  {
   "cell_type": "markdown",
   "metadata": {},
   "source": [
    "##### 1. Experiment with all convolutional layers having the same small filter size (e.g. 3x3)\n"
   ]
  },
  {
   "cell_type": "code",
   "execution_count": 29,
   "metadata": {},
   "outputs": [
    {
     "name": "stdout",
     "output_type": "stream",
     "text": [
      "----------------------------------------------------------------\n",
      "        Layer (type)               Output Shape         Param #\n",
      "================================================================\n",
      "            Conv2d-1           [-1, 16, 32, 32]             448\n",
      "         MaxPool2d-2           [-1, 16, 16, 16]               0\n",
      "            Conv2d-3           [-1, 64, 16, 16]           9,280\n",
      "         MaxPool2d-4             [-1, 64, 8, 8]               0\n",
      "            Conv2d-5            [-1, 256, 8, 8]         147,712\n",
      "         MaxPool2d-6            [-1, 256, 4, 4]               0\n",
      "            Linear-7                  [-1, 512]       2,097,664\n",
      "           Dropout-8                  [-1, 512]               0\n",
      "            Linear-9                  [-1, 128]          65,664\n",
      "           Linear-10                   [-1, 10]           1,290\n",
      "================================================================\n",
      "Total params: 2,322,058\n",
      "Trainable params: 2,322,058\n",
      "Non-trainable params: 0\n",
      "----------------------------------------------------------------\n",
      "Input size (MB): 0.01\n",
      "Forward/backward pass size (MB): 0.48\n",
      "Params size (MB): 8.86\n",
      "Estimated Total Size (MB): 9.35\n",
      "----------------------------------------------------------------\n"
     ]
    }
   ],
   "source": [
    "class SmallFilterCNN(nn.Module):\n",
    "    def __init__(self):\n",
    "        super(SmallFilterCNN, self).__init__()\n",
    "        self.conv1 = nn.Conv2d(in_channels=3, out_channels=16, kernel_size=3, padding=1)\n",
    "        self.conv2 = nn.Conv2d(in_channels=16, out_channels=64, kernel_size=3, padding=1)\n",
    "        self.conv3 = nn.Conv2d(in_channels=64, out_channels=256, kernel_size=3, padding=1)\n",
    "        self.pool = nn.MaxPool2d(kernel_size=2, stride=2)\n",
    "        self.dropout = nn.Dropout(0.5)\n",
    "        self.fc1 = nn.Linear(256 * 4 * 4, 512)\n",
    "        self.fc2 = nn.Linear(512, 128)\n",
    "        self.fc3 = nn.Linear(128, 10)\n",
    "\n",
    "    def forward(self, x):\n",
    "        x = self.pool(F.relu(self.conv1(x)))\n",
    "        x = self.pool(F.relu(self.conv2(x)))\n",
    "        x = self.pool(F.relu(self.conv3(x)))\n",
    "        x = x.view(-1, 256 * 4 * 4)\n",
    "        x = F.relu(self.fc1(x))\n",
    "        x = self.dropout(x)\n",
    "        x = F.relu(self.fc2(x))\n",
    "        x = self.fc3(x)\n",
    "        return x\n",
    "\n",
    "model1 = SmallFilterCNN().to(device)\n",
    "\n",
    "# model summary\n",
    "summary(model1,input_size=(3,32,32))"
   ]
  },
  {
   "cell_type": "code",
   "execution_count": 46,
   "metadata": {},
   "outputs": [
    {
     "name": "stdout",
     "output_type": "stream",
     "text": [
      "Experiment with same Smaller Filter size:\n"
     ]
    },
    {
     "name": "stdout",
     "output_type": "stream",
     "text": [
      "Epoch 1/30, Train Loss: 1.8945, Train Acc: 0.3257, Val Loss: 1.5601, Val Acc: 0.4254\n",
      "Epoch 2/30, Train Loss: 1.6169, Train Acc: 0.4527, Val Loss: 1.3732, Val Acc: 0.4990\n",
      "Epoch 3/30, Train Loss: 1.4687, Train Acc: 0.5188, Val Loss: 1.2977, Val Acc: 0.5230\n",
      "Epoch 4/30, Train Loss: 1.3709, Train Acc: 0.5621, Val Loss: 1.1017, Val Acc: 0.6110\n",
      "Epoch 5/30, Train Loss: 1.2906, Train Acc: 0.5980, Val Loss: 1.0726, Val Acc: 0.6254\n",
      "Epoch 6/30, Train Loss: 1.2334, Train Acc: 0.6258, Val Loss: 0.9841, Val Acc: 0.6608\n",
      "Epoch 7/30, Train Loss: 1.1950, Train Acc: 0.6409, Val Loss: 0.9443, Val Acc: 0.6672\n",
      "Epoch 8/30, Train Loss: 1.1587, Train Acc: 0.6569, Val Loss: 0.9175, Val Acc: 0.6858\n",
      "Epoch 9/30, Train Loss: 1.1316, Train Acc: 0.6695, Val Loss: 0.8846, Val Acc: 0.6930\n",
      "Epoch 10/30, Train Loss: 1.1087, Train Acc: 0.6819, Val Loss: 0.8946, Val Acc: 0.6940\n",
      "Epoch 11/30, Train Loss: 1.0835, Train Acc: 0.6922, Val Loss: 0.8372, Val Acc: 0.7120\n",
      "Epoch 12/30, Train Loss: 1.0700, Train Acc: 0.6979, Val Loss: 0.8489, Val Acc: 0.7034\n",
      "Epoch 13/30, Train Loss: 1.0597, Train Acc: 0.7025, Val Loss: 0.8284, Val Acc: 0.7116\n",
      "Epoch 14/30, Train Loss: 1.0359, Train Acc: 0.7141, Val Loss: 0.8149, Val Acc: 0.7248\n",
      "Epoch 15/30, Train Loss: 1.0277, Train Acc: 0.7193, Val Loss: 0.7773, Val Acc: 0.7296\n",
      "Epoch 16/30, Train Loss: 1.0196, Train Acc: 0.7221, Val Loss: 0.7705, Val Acc: 0.7310\n",
      "Epoch 17/30, Train Loss: 1.0100, Train Acc: 0.7266, Val Loss: 0.7873, Val Acc: 0.7296\n",
      "Epoch 18/30, Train Loss: 1.0066, Train Acc: 0.7281, Val Loss: 0.7620, Val Acc: 0.7274\n",
      "Epoch 19/30, Train Loss: 1.0010, Train Acc: 0.7332, Val Loss: 0.7964, Val Acc: 0.7262\n",
      "Epoch 20/30, Train Loss: 0.9845, Train Acc: 0.7407, Val Loss: 0.7439, Val Acc: 0.7458\n",
      "Epoch 21/30, Train Loss: 0.9816, Train Acc: 0.7412, Val Loss: 0.7335, Val Acc: 0.7432\n",
      "Epoch 22/30, Train Loss: 0.9794, Train Acc: 0.7445, Val Loss: 0.7594, Val Acc: 0.7450\n",
      "Epoch 23/30, Train Loss: 0.9720, Train Acc: 0.7463, Val Loss: 0.7365, Val Acc: 0.7436\n",
      "Epoch 24/30, Train Loss: 0.9713, Train Acc: 0.7476, Val Loss: 0.7541, Val Acc: 0.7414\n",
      "Epoch 25/30, Train Loss: 0.9582, Train Acc: 0.7532, Val Loss: 0.7277, Val Acc: 0.7464\n",
      "Epoch 26/30, Train Loss: 0.9543, Train Acc: 0.7563, Val Loss: 0.7241, Val Acc: 0.7506\n",
      "Epoch 27/30, Train Loss: 0.9519, Train Acc: 0.7574, Val Loss: 0.6884, Val Acc: 0.7562\n",
      "Epoch 28/30, Train Loss: 0.9452, Train Acc: 0.7632, Val Loss: 0.6936, Val Acc: 0.7632\n",
      "Epoch 29/30, Train Loss: 0.9435, Train Acc: 0.7614, Val Loss: 0.7110, Val Acc: 0.7618\n",
      "Epoch 30/30, Train Loss: 0.9380, Train Acc: 0.7636, Val Loss: 0.6898, Val Acc: 0.7598\n",
      "The final result of testing accuracy for SmallFilterCNN model after training for 30 epochs is 80.55%\n"
     ]
    }
   ],
   "source": [
    "def run_experiment(trainloader, testloader, model_class):\n",
    "    torch.manual_seed(42)\n",
    "    torch.cuda.manual_seed(42)\n",
    "    \n",
    "    model = model_class().to(device)\n",
    "    criterion = nn.CrossEntropyLoss()\n",
    "    optimizer = optim.Adam(model.parameters(), lr=0.001, weight_decay=1e-5)\n",
    "\n",
    "    num_epochs = 30\n",
    "    train_losses = []\n",
    "    train_accuracies = []\n",
    "    val_losses = []\n",
    "    val_accuracies = []\n",
    "\n",
    "    for epoch in range(num_epochs):\n",
    "        train_loss, train_acc = train(trainloader, model, criterion, optimizer)\n",
    "        val_loss, val_acc = validate(valloader, model, criterion)\n",
    "\n",
    "        train_losses.append(train_loss)\n",
    "        train_accuracies.append(train_acc)\n",
    "        val_losses.append(val_loss)\n",
    "        val_accuracies.append(val_acc)\n",
    "\n",
    "        print(f'Epoch {epoch+1}/{num_epochs}, '\n",
    "              f'Train Loss: {train_loss:.4f}, Train Acc: {train_acc:.4f}, '\n",
    "              f'Val Loss: {val_loss:.4f}, Val Acc: {val_acc:.4f}')\n",
    "\n",
    "    # Evaluate on the test set\n",
    "    test_acc = test(testloader, model)\n",
    "    print(f'The final result of testing accuracy for SmallFilterCNN model after training for {num_epochs} epochs is {test_acc * 100:.2f}%')\n",
    "\n",
    "print(\"Experiment with same Smaller Filter size:\")\n",
    "run_experiment(trainloader, testloader, SmallFilterCNN)"
   ]
  },
  {
   "cell_type": "markdown",
   "metadata": {},
   "source": [
    "##### 2. Experiment with all convolutional layers having the same large filter size (e.g. 15x15)\n"
   ]
  },
  {
   "cell_type": "code",
   "execution_count": 31,
   "metadata": {},
   "outputs": [
    {
     "name": "stdout",
     "output_type": "stream",
     "text": [
      "----------------------------------------------------------------\n",
      "        Layer (type)               Output Shape         Param #\n",
      "================================================================\n",
      "            Conv2d-1           [-1, 16, 32, 32]          10,816\n",
      "         MaxPool2d-2           [-1, 16, 16, 16]               0\n",
      "            Conv2d-3           [-1, 64, 16, 16]         230,464\n",
      "         MaxPool2d-4             [-1, 64, 8, 8]               0\n",
      "            Conv2d-5            [-1, 256, 8, 8]       3,686,656\n",
      "         MaxPool2d-6            [-1, 256, 4, 4]               0\n",
      "            Linear-7                  [-1, 512]       2,097,664\n",
      "           Dropout-8                  [-1, 512]               0\n",
      "            Linear-9                  [-1, 128]          65,664\n",
      "           Linear-10                   [-1, 10]           1,290\n",
      "================================================================\n",
      "Total params: 6,092,554\n",
      "Trainable params: 6,092,554\n",
      "Non-trainable params: 0\n",
      "----------------------------------------------------------------\n",
      "Input size (MB): 0.01\n",
      "Forward/backward pass size (MB): 0.48\n",
      "Params size (MB): 23.24\n",
      "Estimated Total Size (MB): 23.73\n",
      "----------------------------------------------------------------\n"
     ]
    }
   ],
   "source": [
    "class LargeFilterCNN(nn.Module):\n",
    "    def __init__(self):\n",
    "        super(LargeFilterCNN, self).__init__()\n",
    "        self.conv1 = nn.Conv2d(in_channels=3, out_channels=16, kernel_size=15, padding=7)\n",
    "        self.conv2 = nn.Conv2d(in_channels=16, out_channels=64, kernel_size=15, padding=7)\n",
    "        self.conv3 = nn.Conv2d(in_channels=64, out_channels=256, kernel_size=15, padding=7)\n",
    "        self.pool = nn.MaxPool2d(kernel_size=2, stride=2)\n",
    "        self.dropout = nn.Dropout(0.5)\n",
    "        self.fc1 = nn.Linear(256 * 4 * 4, 512)\n",
    "        self.fc2 = nn.Linear(512, 128)\n",
    "        self.fc3 = nn.Linear(128, 10)\n",
    "\n",
    "    def forward(self, x):\n",
    "        x = self.pool(F.relu(self.conv1(x)))\n",
    "        x = self.pool(F.relu(self.conv2(x)))\n",
    "        x = self.pool(F.relu(self.conv3(x)))\n",
    "        x = x.view(-1, 256 * 4 * 4)\n",
    "        x = F.relu(self.fc1(x))\n",
    "        x = self.dropout(x)\n",
    "        x = F.relu(self.fc2(x))\n",
    "        x = self.fc3(x)\n",
    "        return x\n",
    "    \n",
    "model2 = LargeFilterCNN().to(device)\n",
    "summary(model2,input_size=(3,32,32))"
   ]
  },
  {
   "cell_type": "code",
   "execution_count": 47,
   "metadata": {},
   "outputs": [
    {
     "name": "stdout",
     "output_type": "stream",
     "text": [
      "Experiment with same Large filter size:\n",
      "Epoch 1/30, Train Loss: 2.0706, Train Acc: 0.2412, Val Loss: 1.8866, Val Acc: 0.3014\n",
      "Epoch 2/30, Train Loss: 1.8458, Train Acc: 0.3491, Val Loss: 1.6409, Val Acc: 0.4000\n",
      "Epoch 3/30, Train Loss: 1.7358, Train Acc: 0.4122, Val Loss: 1.5533, Val Acc: 0.4460\n",
      "Epoch 4/30, Train Loss: 1.6623, Train Acc: 0.4481, Val Loss: 1.5330, Val Acc: 0.4614\n",
      "Epoch 5/30, Train Loss: 1.6162, Train Acc: 0.4688, Val Loss: 1.5127, Val Acc: 0.4620\n",
      "Epoch 6/30, Train Loss: 1.5802, Train Acc: 0.4885, Val Loss: 1.4163, Val Acc: 0.4924\n",
      "Epoch 7/30, Train Loss: 1.5453, Train Acc: 0.5011, Val Loss: 1.3872, Val Acc: 0.5152\n",
      "Epoch 8/30, Train Loss: 1.5249, Train Acc: 0.5120, Val Loss: 1.3453, Val Acc: 0.5364\n",
      "Epoch 9/30, Train Loss: 1.5048, Train Acc: 0.5216, Val Loss: 1.3259, Val Acc: 0.5318\n",
      "Epoch 10/30, Train Loss: 1.4970, Train Acc: 0.5265, Val Loss: 1.2910, Val Acc: 0.5378\n",
      "Epoch 11/30, Train Loss: 1.4780, Train Acc: 0.5379, Val Loss: 1.2980, Val Acc: 0.5430\n",
      "Epoch 12/30, Train Loss: 1.4638, Train Acc: 0.5409, Val Loss: 1.2810, Val Acc: 0.5576\n",
      "Epoch 13/30, Train Loss: 1.4528, Train Acc: 0.5495, Val Loss: 1.2879, Val Acc: 0.5480\n",
      "Epoch 14/30, Train Loss: 1.4367, Train Acc: 0.5568, Val Loss: 1.2700, Val Acc: 0.5600\n",
      "Epoch 15/30, Train Loss: 1.4247, Train Acc: 0.5681, Val Loss: 1.2385, Val Acc: 0.5712\n",
      "Epoch 16/30, Train Loss: 1.4137, Train Acc: 0.5721, Val Loss: 1.2456, Val Acc: 0.5658\n",
      "Epoch 17/30, Train Loss: 1.4071, Train Acc: 0.5795, Val Loss: 1.2016, Val Acc: 0.5822\n",
      "Epoch 18/30, Train Loss: 1.4002, Train Acc: 0.5848, Val Loss: 1.1728, Val Acc: 0.5898\n",
      "Epoch 19/30, Train Loss: 1.3856, Train Acc: 0.5879, Val Loss: 1.1929, Val Acc: 0.5886\n",
      "Epoch 20/30, Train Loss: 1.3779, Train Acc: 0.5950, Val Loss: 1.1772, Val Acc: 0.5916\n",
      "Epoch 21/30, Train Loss: 1.3642, Train Acc: 0.5989, Val Loss: 1.1681, Val Acc: 0.5996\n",
      "Epoch 22/30, Train Loss: 1.3593, Train Acc: 0.6041, Val Loss: 1.1207, Val Acc: 0.6156\n",
      "Epoch 23/30, Train Loss: 1.3504, Train Acc: 0.6107, Val Loss: 1.1908, Val Acc: 0.5866\n",
      "Epoch 24/30, Train Loss: 1.3391, Train Acc: 0.6093, Val Loss: 1.1154, Val Acc: 0.6042\n",
      "Epoch 25/30, Train Loss: 1.3437, Train Acc: 0.6135, Val Loss: 1.1021, Val Acc: 0.6142\n",
      "Epoch 26/30, Train Loss: 1.3276, Train Acc: 0.6174, Val Loss: 1.1126, Val Acc: 0.6150\n",
      "Epoch 27/30, Train Loss: 1.3276, Train Acc: 0.6187, Val Loss: 1.0845, Val Acc: 0.6212\n",
      "Epoch 28/30, Train Loss: 1.3185, Train Acc: 0.6220, Val Loss: 1.0905, Val Acc: 0.6260\n",
      "Epoch 29/30, Train Loss: 1.3155, Train Acc: 0.6252, Val Loss: 1.0746, Val Acc: 0.6298\n",
      "Epoch 30/30, Train Loss: 1.3068, Train Acc: 0.6288, Val Loss: 1.0662, Val Acc: 0.6276\n",
      "The final result of testing accuracy for LargeFilterCNN model after training for 30 epochs is 65.49%\n"
     ]
    }
   ],
   "source": [
    "def run_experiment(trainloader, testloader, model_class):\n",
    "    torch.manual_seed(42)\n",
    "    torch.cuda.manual_seed(42)\n",
    "    \n",
    "    model = model_class().to(device)\n",
    "    criterion = nn.CrossEntropyLoss()\n",
    "    optimizer = optim.Adam(model.parameters(), lr=0.001, weight_decay=1e-5)\n",
    "\n",
    "    num_epochs = 30\n",
    "    train_losses = []\n",
    "    train_accuracies = []\n",
    "    val_losses = []\n",
    "    val_accuracies = []\n",
    "\n",
    "    for epoch in range(num_epochs):\n",
    "        train_loss, train_acc = train(trainloader, model, criterion, optimizer)\n",
    "        val_loss, val_acc = validate(valloader, model, criterion)\n",
    "\n",
    "        train_losses.append(train_loss)\n",
    "        train_accuracies.append(train_acc)\n",
    "        val_losses.append(val_loss)\n",
    "        val_accuracies.append(val_acc)\n",
    "\n",
    "        print(f'Epoch {epoch+1}/{num_epochs}, '\n",
    "              f'Train Loss: {train_loss:.4f}, Train Acc: {train_acc:.4f}, '\n",
    "              f'Val Loss: {val_loss:.4f}, Val Acc: {val_acc:.4f}')\n",
    "\n",
    "    # Evaluate on the test set\n",
    "    test_acc = test(testloader, model)\n",
    "    print(f'The final result of testing accuracy for LargeFilterCNN model after training for {num_epochs} epochs is {test_acc * 100:.2f}%')\n",
    "\n",
    "print(\"Experiment with same Large filter size:\")\n",
    "run_experiment(trainloader, testloader, LargeFilterCNN)"
   ]
  },
  {
   "cell_type": "markdown",
   "metadata": {},
   "source": [
    "##### 3. Experiment with convolutional layers with increasing filter size (e.g. 3x3, 5x5, 7x7)"
   ]
  },
  {
   "cell_type": "code",
   "execution_count": 33,
   "metadata": {},
   "outputs": [
    {
     "name": "stdout",
     "output_type": "stream",
     "text": [
      "----------------------------------------------------------------\n",
      "        Layer (type)               Output Shape         Param #\n",
      "================================================================\n",
      "            Conv2d-1           [-1, 16, 32, 32]             448\n",
      "         MaxPool2d-2           [-1, 16, 16, 16]               0\n",
      "            Conv2d-3           [-1, 64, 16, 16]          25,664\n",
      "         MaxPool2d-4             [-1, 64, 8, 8]               0\n",
      "            Conv2d-5            [-1, 256, 8, 8]         803,072\n",
      "         MaxPool2d-6            [-1, 256, 4, 4]               0\n",
      "            Linear-7                  [-1, 512]       2,097,664\n",
      "           Dropout-8                  [-1, 512]               0\n",
      "            Linear-9                  [-1, 128]          65,664\n",
      "           Linear-10                   [-1, 10]           1,290\n",
      "================================================================\n",
      "Total params: 2,993,802\n",
      "Trainable params: 2,993,802\n",
      "Non-trainable params: 0\n",
      "----------------------------------------------------------------\n",
      "Input size (MB): 0.01\n",
      "Forward/backward pass size (MB): 0.48\n",
      "Params size (MB): 11.42\n",
      "Estimated Total Size (MB): 11.91\n",
      "----------------------------------------------------------------\n"
     ]
    }
   ],
   "source": [
    "class IncreasingFilterCNN(nn.Module):\n",
    "    def __init__(self):\n",
    "        super(IncreasingFilterCNN, self).__init__()\n",
    "        self.conv1 = nn.Conv2d(in_channels=3, out_channels=16, kernel_size=3, padding=1)\n",
    "        self.conv2 = nn.Conv2d(in_channels=16, out_channels=64, kernel_size=5, padding=2)\n",
    "        self.conv3 = nn.Conv2d(in_channels=64, out_channels=256, kernel_size=7, padding=3)\n",
    "        self.pool = nn.MaxPool2d(kernel_size=2, stride=2)\n",
    "        self.dropout = nn.Dropout(0.5)\n",
    "        self.fc1 = nn.Linear(256*4*4,512)\n",
    "        self.fc2 = nn.Linear(512,128)\n",
    "        self.fc3 = nn.Linear(128,10)\n",
    "\n",
    "    def forward(self, x):\n",
    "        x = self.pool(F.relu(self.conv1(x)))\n",
    "        x = self.pool(F.relu(self.conv2(x)))\n",
    "        x = self.pool(F.relu(self.conv3(x)))\n",
    "        x = x.view(-1,256*4*4)\n",
    "        x = F.relu(self.fc1(x))\n",
    "        x = self.dropout(x)\n",
    "        x = F.relu(self.fc2(x))\n",
    "        x = self.fc3(x)\n",
    "        return x\n",
    "    \n",
    "model3 = IncreasingFilterCNN().to(device)\n",
    "summary(model3,input_size=(3,32,32))"
   ]
  },
  {
   "cell_type": "code",
   "execution_count": 45,
   "metadata": {},
   "outputs": [
    {
     "name": "stdout",
     "output_type": "stream",
     "text": [
      "Experiment with Increasing filter size:\n"
     ]
    },
    {
     "name": "stdout",
     "output_type": "stream",
     "text": [
      "Epoch 1/30, Train Loss: 1.9254, Train Acc: 0.2930, Val Loss: 1.6431, Val Acc: 0.3902\n",
      "Epoch 2/30, Train Loss: 1.5660, Train Acc: 0.4597, Val Loss: 1.3500, Val Acc: 0.5184\n",
      "Epoch 3/30, Train Loss: 1.4191, Train Acc: 0.5277, Val Loss: 1.2672, Val Acc: 0.5510\n",
      "Epoch 4/30, Train Loss: 1.3309, Train Acc: 0.5669, Val Loss: 1.1925, Val Acc: 0.5818\n",
      "Epoch 5/30, Train Loss: 1.2736, Train Acc: 0.5950, Val Loss: 1.0885, Val Acc: 0.6154\n",
      "Epoch 6/30, Train Loss: 1.2224, Train Acc: 0.6186, Val Loss: 1.1089, Val Acc: 0.6220\n",
      "Epoch 7/30, Train Loss: 1.1702, Train Acc: 0.6395, Val Loss: 0.9846, Val Acc: 0.6584\n",
      "Epoch 8/30, Train Loss: 1.1414, Train Acc: 0.6518, Val Loss: 0.9323, Val Acc: 0.6758\n",
      "Epoch 9/30, Train Loss: 1.1151, Train Acc: 0.6664, Val Loss: 0.9271, Val Acc: 0.6778\n",
      "Epoch 10/30, Train Loss: 1.0928, Train Acc: 0.6782, Val Loss: 0.8955, Val Acc: 0.6932\n",
      "Epoch 11/30, Train Loss: 1.0731, Train Acc: 0.6852, Val Loss: 0.9366, Val Acc: 0.6708\n",
      "Epoch 12/30, Train Loss: 1.0483, Train Acc: 0.6950, Val Loss: 0.8957, Val Acc: 0.6910\n",
      "Epoch 13/30, Train Loss: 1.0302, Train Acc: 0.7016, Val Loss: 0.8875, Val Acc: 0.6968\n",
      "Epoch 14/30, Train Loss: 1.0195, Train Acc: 0.7070, Val Loss: 0.8493, Val Acc: 0.7082\n",
      "Epoch 15/30, Train Loss: 1.0054, Train Acc: 0.7163, Val Loss: 0.8199, Val Acc: 0.7178\n",
      "Epoch 16/30, Train Loss: 0.9978, Train Acc: 0.7183, Val Loss: 0.8558, Val Acc: 0.7156\n",
      "Epoch 17/30, Train Loss: 0.9879, Train Acc: 0.7225, Val Loss: 0.8335, Val Acc: 0.7208\n",
      "Epoch 18/30, Train Loss: 0.9845, Train Acc: 0.7231, Val Loss: 0.8224, Val Acc: 0.7188\n",
      "Epoch 19/30, Train Loss: 0.9722, Train Acc: 0.7331, Val Loss: 0.8122, Val Acc: 0.7274\n",
      "Epoch 20/30, Train Loss: 0.9640, Train Acc: 0.7369, Val Loss: 0.7831, Val Acc: 0.7368\n",
      "Epoch 21/30, Train Loss: 0.9613, Train Acc: 0.7379, Val Loss: 0.7820, Val Acc: 0.7348\n",
      "Epoch 22/30, Train Loss: 0.9538, Train Acc: 0.7435, Val Loss: 0.7946, Val Acc: 0.7344\n",
      "Epoch 23/30, Train Loss: 0.9443, Train Acc: 0.7428, Val Loss: 0.8012, Val Acc: 0.7306\n",
      "Epoch 24/30, Train Loss: 0.9294, Train Acc: 0.7493, Val Loss: 0.7643, Val Acc: 0.7418\n",
      "Epoch 25/30, Train Loss: 0.9327, Train Acc: 0.7471, Val Loss: 0.7816, Val Acc: 0.7354\n",
      "Epoch 26/30, Train Loss: 0.9274, Train Acc: 0.7533, Val Loss: 0.7541, Val Acc: 0.7482\n",
      "Epoch 27/30, Train Loss: 0.9288, Train Acc: 0.7532, Val Loss: 0.7745, Val Acc: 0.7346\n",
      "Epoch 28/30, Train Loss: 0.9296, Train Acc: 0.7537, Val Loss: 0.7632, Val Acc: 0.7564\n",
      "Epoch 29/30, Train Loss: 0.9320, Train Acc: 0.7575, Val Loss: 0.7511, Val Acc: 0.7488\n",
      "Epoch 30/30, Train Loss: 0.9128, Train Acc: 0.7587, Val Loss: 0.7484, Val Acc: 0.7452\n",
      "The final result of testing accuracy for IncreasingFilterCNN model after training for 30 epochs is 77.41%\n"
     ]
    }
   ],
   "source": [
    "def run_experiment(trainloader, testloader, model_class):\n",
    "    torch.manual_seed(42)\n",
    "    torch.cuda.manual_seed(42)\n",
    "    \n",
    "    model = model_class().to(device)\n",
    "    criterion = nn.CrossEntropyLoss()\n",
    "    optimizer = optim.Adam(model.parameters(), lr=0.001, weight_decay=1e-5)\n",
    "\n",
    "    num_epochs = 30\n",
    "    train_losses = []\n",
    "    train_accuracies = []\n",
    "    val_losses = []\n",
    "    val_accuracies = []\n",
    "\n",
    "    for epoch in range(num_epochs):\n",
    "        train_loss, train_acc = train(trainloader, model, criterion, optimizer)\n",
    "        val_loss, val_acc = validate(valloader, model, criterion)\n",
    "\n",
    "        train_losses.append(train_loss)\n",
    "        train_accuracies.append(train_acc)\n",
    "        val_losses.append(val_loss)\n",
    "        val_accuracies.append(val_acc)\n",
    "\n",
    "        print(f'Epoch {epoch+1}/{num_epochs}, '\n",
    "              f'Train Loss: {train_loss:.4f}, Train Acc: {train_acc:.4f}, '\n",
    "              f'Val Loss: {val_loss:.4f}, Val Acc: {val_acc:.4f}')\n",
    "\n",
    "    # Evaluate on the test set\n",
    "    test_acc = test(testloader, model)\n",
    "    print(f'The final result of testing accuracy for IncreasingFilterCNN model after training for {num_epochs} epochs is {test_acc * 100:.2f}%')\n",
    "\n",
    "print(\"Experiment with Increasing filter size:\")\n",
    "run_experiment(trainloader, testloader, IncreasingFilterCNN)"
   ]
  },
  {
   "cell_type": "markdown",
   "metadata": {},
   "source": [
    "##### 4. Experiment with convolutional layers with decreasing filter size (e.g. 7x7, 5x5, 3x3)"
   ]
  },
  {
   "cell_type": "code",
   "execution_count": 35,
   "metadata": {},
   "outputs": [
    {
     "name": "stdout",
     "output_type": "stream",
     "text": [
      "----------------------------------------------------------------\n",
      "        Layer (type)               Output Shape         Param #\n",
      "================================================================\n",
      "            Conv2d-1           [-1, 16, 32, 32]           2,368\n",
      "         MaxPool2d-2           [-1, 16, 16, 16]               0\n",
      "            Conv2d-3           [-1, 64, 16, 16]          25,664\n",
      "         MaxPool2d-4             [-1, 64, 8, 8]               0\n",
      "            Conv2d-5            [-1, 256, 8, 8]         147,712\n",
      "         MaxPool2d-6            [-1, 256, 4, 4]               0\n",
      "            Linear-7                  [-1, 512]       2,097,664\n",
      "           Dropout-8                  [-1, 512]               0\n",
      "            Linear-9                  [-1, 128]          65,664\n",
      "           Linear-10                   [-1, 10]           1,290\n",
      "================================================================\n",
      "Total params: 2,340,362\n",
      "Trainable params: 2,340,362\n",
      "Non-trainable params: 0\n",
      "----------------------------------------------------------------\n",
      "Input size (MB): 0.01\n",
      "Forward/backward pass size (MB): 0.48\n",
      "Params size (MB): 8.93\n",
      "Estimated Total Size (MB): 9.42\n",
      "----------------------------------------------------------------\n"
     ]
    }
   ],
   "source": [
    "class DecreasingFilterCNN(nn.Module):\n",
    "    def __init__(self):\n",
    "        super(DecreasingFilterCNN, self).__init__()\n",
    "        self.conv1 = nn.Conv2d(in_channels=3, out_channels=16, kernel_size=7, padding=3)\n",
    "        self.conv2 = nn.Conv2d(in_channels=16, out_channels=64, kernel_size=5, padding=2)\n",
    "        self.conv3 = nn.Conv2d(in_channels=64, out_channels=256, kernel_size=3, padding=1)\n",
    "        self.pool = nn.MaxPool2d(kernel_size=2, stride=2)\n",
    "        self.dropout = nn.Dropout(0.5)\n",
    "        self.fc1 = nn.Linear(256 * 4 * 4, 512)\n",
    "        self.fc2 = nn.Linear(512, 128)\n",
    "        self.fc3 = nn.Linear(128, 10)\n",
    "\n",
    "    def forward(self, x):\n",
    "        x = self.pool(F.relu(self.conv1(x)))\n",
    "        x = self.pool(F.relu(self.conv2(x)))\n",
    "        x = self.pool(F.relu(self.conv3(x)))\n",
    "        x = x.view(-1, 256 * 4 * 4)\n",
    "        x = F.relu(self.fc1(x))\n",
    "        x = self.dropout(x)\n",
    "        x = F.relu(self.fc2(x))\n",
    "        x = self.fc3(x)\n",
    "        return x\n",
    "    \n",
    "model4 = DecreasingFilterCNN().to(device)\n",
    "summary(model4,input_size=(3,32,32))"
   ]
  },
  {
   "cell_type": "code",
   "execution_count": 48,
   "metadata": {},
   "outputs": [
    {
     "name": "stdout",
     "output_type": "stream",
     "text": [
      "Experiment with Increasing filter size:\n"
     ]
    },
    {
     "name": "stdout",
     "output_type": "stream",
     "text": [
      "Epoch 1/30, Train Loss: 1.9483, Train Acc: 0.3123, Val Loss: 1.6519, Val Acc: 0.4026\n",
      "Epoch 2/30, Train Loss: 1.6495, Train Acc: 0.4448, Val Loss: 1.4066, Val Acc: 0.4998\n",
      "Epoch 3/30, Train Loss: 1.5039, Train Acc: 0.5098, Val Loss: 1.2706, Val Acc: 0.5502\n",
      "Epoch 4/30, Train Loss: 1.4109, Train Acc: 0.5573, Val Loss: 1.1825, Val Acc: 0.5928\n",
      "Epoch 5/30, Train Loss: 1.3347, Train Acc: 0.5923, Val Loss: 1.1459, Val Acc: 0.6046\n",
      "Epoch 6/30, Train Loss: 1.2860, Train Acc: 0.6164, Val Loss: 1.0324, Val Acc: 0.6508\n",
      "Epoch 7/30, Train Loss: 1.2434, Train Acc: 0.6349, Val Loss: 1.0060, Val Acc: 0.6510\n",
      "Epoch 8/30, Train Loss: 1.2108, Train Acc: 0.6501, Val Loss: 1.0133, Val Acc: 0.6476\n",
      "Epoch 9/30, Train Loss: 1.1843, Train Acc: 0.6638, Val Loss: 0.9610, Val Acc: 0.6684\n",
      "Epoch 10/30, Train Loss: 1.1627, Train Acc: 0.6705, Val Loss: 0.8947, Val Acc: 0.6892\n",
      "Epoch 11/30, Train Loss: 1.1447, Train Acc: 0.6789, Val Loss: 0.9026, Val Acc: 0.6838\n",
      "Epoch 12/30, Train Loss: 1.1236, Train Acc: 0.6894, Val Loss: 0.8951, Val Acc: 0.6908\n",
      "Epoch 13/30, Train Loss: 1.1128, Train Acc: 0.6963, Val Loss: 0.8528, Val Acc: 0.7102\n",
      "Epoch 14/30, Train Loss: 1.1005, Train Acc: 0.7028, Val Loss: 0.8616, Val Acc: 0.6990\n",
      "Epoch 15/30, Train Loss: 1.0971, Train Acc: 0.7060, Val Loss: 0.8396, Val Acc: 0.7074\n",
      "Epoch 16/30, Train Loss: 1.0877, Train Acc: 0.7124, Val Loss: 0.8523, Val Acc: 0.7012\n",
      "Epoch 17/30, Train Loss: 1.0812, Train Acc: 0.7159, Val Loss: 0.8128, Val Acc: 0.7292\n",
      "Epoch 18/30, Train Loss: 1.0794, Train Acc: 0.7157, Val Loss: 0.8012, Val Acc: 0.7266\n",
      "Epoch 19/30, Train Loss: 1.0695, Train Acc: 0.7226, Val Loss: 0.7846, Val Acc: 0.7316\n",
      "Epoch 20/30, Train Loss: 1.0467, Train Acc: 0.7304, Val Loss: 0.7715, Val Acc: 0.7370\n",
      "Epoch 21/30, Train Loss: 1.0434, Train Acc: 0.7326, Val Loss: 0.8264, Val Acc: 0.7108\n",
      "Epoch 22/30, Train Loss: 1.0424, Train Acc: 0.7327, Val Loss: 0.7968, Val Acc: 0.7284\n",
      "Epoch 23/30, Train Loss: 1.0379, Train Acc: 0.7361, Val Loss: 0.7256, Val Acc: 0.7498\n",
      "Epoch 24/30, Train Loss: 1.0380, Train Acc: 0.7397, Val Loss: 0.7445, Val Acc: 0.7376\n",
      "Epoch 25/30, Train Loss: 1.0146, Train Acc: 0.7435, Val Loss: 0.7544, Val Acc: 0.7422\n",
      "Epoch 26/30, Train Loss: 1.0271, Train Acc: 0.7459, Val Loss: 0.7552, Val Acc: 0.7390\n",
      "Epoch 27/30, Train Loss: 1.0166, Train Acc: 0.7473, Val Loss: 0.7718, Val Acc: 0.7398\n",
      "Epoch 28/30, Train Loss: 1.0182, Train Acc: 0.7489, Val Loss: 0.7720, Val Acc: 0.7346\n",
      "Epoch 29/30, Train Loss: 1.0122, Train Acc: 0.7526, Val Loss: 0.7102, Val Acc: 0.7530\n",
      "Epoch 30/30, Train Loss: 1.0097, Train Acc: 0.7547, Val Loss: 0.7207, Val Acc: 0.7518\n",
      "The final result of testing accuracy for DecreasingFilterCNN model after training for 30 epochs is 78.81%\n"
     ]
    }
   ],
   "source": [
    "def run_experiment(trainloader, testloader, model_class):\n",
    "    torch.manual_seed(42)\n",
    "    torch.cuda.manual_seed(42)\n",
    "    \n",
    "    model = model_class().to(device)\n",
    "    criterion = nn.CrossEntropyLoss()\n",
    "    optimizer = optim.Adam(model.parameters(), lr=0.001, weight_decay=1e-5)\n",
    "\n",
    "    num_epochs = 30\n",
    "    train_losses = []\n",
    "    train_accuracies = []\n",
    "    val_losses = []\n",
    "    val_accuracies = []\n",
    "\n",
    "    for epoch in range(num_epochs):\n",
    "        train_loss, train_acc = train(trainloader, model, criterion, optimizer)\n",
    "        val_loss, val_acc = validate(valloader, model, criterion)\n",
    "\n",
    "        train_losses.append(train_loss)\n",
    "        train_accuracies.append(train_acc)\n",
    "        val_losses.append(val_loss)\n",
    "        val_accuracies.append(val_acc)\n",
    "\n",
    "        print(f'Epoch {epoch+1}/{num_epochs}, '\n",
    "              f'Train Loss: {train_loss:.4f}, Train Acc: {train_acc:.4f}, '\n",
    "              f'Val Loss: {val_loss:.4f}, Val Acc: {val_acc:.4f}')\n",
    "\n",
    "    # Evaluate on the test set\n",
    "    test_acc = test(testloader, model)\n",
    "    print(f'The final result of testing accuracy for DecreasingFilterCNN model after training for {num_epochs} epochs is {test_acc * 100:.2f}%')\n",
    "\n",
    "print(\"Experiment with Increasing filter size:\")\n",
    "run_experiment(trainloader, testloader, DecreasingFilterCNN)"
   ]
  },
  {
   "cell_type": "markdown",
   "metadata": {},
   "source": [
    "Reporting:\n",
    "\n",
    "1. Small Filters (3x3): Showed steady convergence with good generalization, achieving a highest testing accuracy of 80.55%.\n",
    "2. Large Filters (15x15): Converge more slowly and achieve lower performance, with a test accuracy of 65.49%, likely due to overfitting.\n",
    "3. Increasing Filter Sizes (3x3, 5x5, 7x7): Shows good convergence with consistent decrease in losses. Achieved the test accuracy of 77.41%, effectively balancing detail capture and broader pattern recognition.\n",
    "4. Decreasing Filter Sizes (7x7, 5x5, 3x3): Performed well with a test accuracy of 78.81%, but slightly more effective than increasing sizes.\n",
    "\n",
    "Conclusion: Small filter sizes provide the best balance and performance, making them a strong choice for capturing both fine details and broader patterns."
   ]
  },
  {
   "cell_type": "markdown",
   "metadata": {},
   "source": [
    "##### 5. Experiment with L1 regularization, L2 regularization, dropout combination."
   ]
  },
  {
   "cell_type": "code",
   "execution_count": 49,
   "metadata": {},
   "outputs": [],
   "source": [
    "class CustomBESTCNN(nn.Module):\n",
    "    def __init__(self):\n",
    "        super(CustomBESTCNN, self).__init__()\n",
    "        self.conv1 = nn.Conv2d(in_channels=3, out_channels=16, kernel_size=3, padding=1)\n",
    "        self.conv2 = nn.Conv2d(in_channels=16, out_channels=64, kernel_size=3, padding=1)\n",
    "        self.conv3 = nn.Conv2d(in_channels=64, out_channels=256, kernel_size=3, padding=1)\n",
    "        self.pool = nn.MaxPool2d(kernel_size=2, stride=2)\n",
    "        self.dropout = nn.Dropout(0.5)\n",
    "        self.fc1 = nn.Linear(256*4*4, 512)\n",
    "        self.fc2 = nn.Linear(512, 128)\n",
    "        self.fc3 = nn.Linear(128, 10)\n",
    "\n",
    "    def forward(self, x):\n",
    "        x = self.pool(F.relu(self.conv1(x)))\n",
    "        x = self.pool(F.relu(self.conv2(x)))\n",
    "        x = self.pool(F.relu(self.conv3(x)))\n",
    "        x = x.view(-1, 256 * 4 * 4)\n",
    "        x = F.relu(self.fc1(x))\n",
    "        x = self.dropout(x)\n",
    "        x = F.relu(self.fc2(x))\n",
    "        # x = self.dropout(x)\n",
    "        x = self.fc3(x)\n",
    "        return x\n",
    "\n",
    "# Instantiate the model\n",
    "device = torch.device(\"cuda\" if torch.cuda.is_available() else \"cpu\")\n",
    "model5 = CustomBESTCNN().to(device)"
   ]
  },
  {
   "cell_type": "code",
   "execution_count": 50,
   "metadata": {},
   "outputs": [],
   "source": [
    "torch.manual_seed(42)\n",
    "torch.cuda.manual_seed(42)\n",
    "criterion = nn.CrossEntropyLoss()\n",
    "optimizer = optim.Adam(model5.parameters(), lr=0.001, weight_decay=1e-5)\n",
    "\n",
    "# Training function with L1 regularization\n",
    "def train(dataloader, model, criterion, optimizer):\n",
    "    model.train()\n",
    "    total_loss = 0\n",
    "    total_accuracy = 0\n",
    "    l1_lambda = 1e-5\n",
    "\n",
    "    for X, Y in dataloader:\n",
    "        X, Y = X.to(device), Y.to(device)\n",
    "\n",
    "        # Forward pass\n",
    "        pred = model(X)\n",
    "        loss = criterion(pred, Y)\n",
    "\n",
    "        # Add L1 regularization\n",
    "        l1_norm = sum(p.abs().sum() for p in model.parameters())\n",
    "        loss += l1_lambda * l1_norm\n",
    "\n",
    "        # Backward pass and optimization\n",
    "        optimizer.zero_grad()\n",
    "        loss.backward()\n",
    "        optimizer.step()\n",
    "\n",
    "        total_loss += loss.item()\n",
    "        total_accuracy += (pred.argmax(dim=1) == Y).sum().item()\n",
    "\n",
    "    avg_loss = total_loss / len(dataloader)\n",
    "    avg_accuracy = total_accuracy / len(dataloader.dataset)\n",
    "\n",
    "    return avg_loss, avg_accuracy"
   ]
  },
  {
   "cell_type": "code",
   "execution_count": 53,
   "metadata": {},
   "outputs": [
    {
     "name": "stdout",
     "output_type": "stream",
     "text": [
      "Experiment with L1, L2 and Dropout filter size:\n"
     ]
    },
    {
     "name": "stdout",
     "output_type": "stream",
     "text": [
      "Epoch 1/20, Train Loss: 1.9277, Train Acc: 0.2923, Val Loss: 1.6458, Val Acc: 0.3898\n",
      "Epoch 2/20, Train Loss: 1.5848, Train Acc: 0.4496, Val Loss: 1.3851, Val Acc: 0.4994\n",
      "Epoch 3/20, Train Loss: 1.4328, Train Acc: 0.5190, Val Loss: 1.2781, Val Acc: 0.5374\n",
      "Epoch 4/20, Train Loss: 1.3477, Train Acc: 0.5623, Val Loss: 1.2221, Val Acc: 0.5658\n",
      "Epoch 5/20, Train Loss: 1.2760, Train Acc: 0.5895, Val Loss: 1.0982, Val Acc: 0.6124\n",
      "Epoch 6/20, Train Loss: 1.2267, Train Acc: 0.6156, Val Loss: 1.0743, Val Acc: 0.6256\n",
      "Epoch 7/20, Train Loss: 1.1721, Train Acc: 0.6367, Val Loss: 1.0291, Val Acc: 0.6480\n",
      "Epoch 8/20, Train Loss: 1.1379, Train Acc: 0.6522, Val Loss: 0.9284, Val Acc: 0.6802\n",
      "Epoch 9/20, Train Loss: 1.1162, Train Acc: 0.6661, Val Loss: 0.9246, Val Acc: 0.6844\n",
      "Epoch 10/20, Train Loss: 1.0967, Train Acc: 0.6723, Val Loss: 0.9232, Val Acc: 0.6794\n",
      "Epoch 11/20, Train Loss: 1.0714, Train Acc: 0.6859, Val Loss: 0.9445, Val Acc: 0.6842\n",
      "Epoch 12/20, Train Loss: 1.0471, Train Acc: 0.6932, Val Loss: 0.8797, Val Acc: 0.7016\n",
      "Epoch 13/20, Train Loss: 1.0296, Train Acc: 0.7011, Val Loss: 0.8884, Val Acc: 0.6954\n",
      "Epoch 14/20, Train Loss: 1.0240, Train Acc: 0.7054, Val Loss: 0.8604, Val Acc: 0.7098\n",
      "Epoch 15/20, Train Loss: 1.0052, Train Acc: 0.7155, Val Loss: 0.8662, Val Acc: 0.7044\n",
      "Epoch 16/20, Train Loss: 1.0084, Train Acc: 0.7153, Val Loss: 0.8998, Val Acc: 0.6936\n",
      "Epoch 17/20, Train Loss: 0.9889, Train Acc: 0.7226, Val Loss: 0.8190, Val Acc: 0.7212\n",
      "Epoch 18/20, Train Loss: 0.9839, Train Acc: 0.7240, Val Loss: 0.8228, Val Acc: 0.7244\n",
      "Epoch 19/20, Train Loss: 0.9745, Train Acc: 0.7280, Val Loss: 0.8254, Val Acc: 0.7242\n",
      "Epoch 20/20, Train Loss: 0.9631, Train Acc: 0.7357, Val Loss: 0.7993, Val Acc: 0.7342\n",
      "The final result of testing accuracy with L1/L2 and dropout regularization with CustomBestCNN after training for 20 epochs is 77.17%\n"
     ]
    }
   ],
   "source": [
    "def run_experiment(trainloader, testloader, model_class):\n",
    "    torch.manual_seed(42)\n",
    "    torch.cuda.manual_seed(42)\n",
    "    \n",
    "    model = model_class().to(device)  # Instantiate the provided model class\n",
    "    criterion = nn.CrossEntropyLoss()\n",
    "    optimizer = optim.Adam(model.parameters(), lr=0.001, weight_decay=1e-5)\n",
    "\n",
    "    num_epochs = 20\n",
    "    train_losses = []\n",
    "    train_accuracies = []\n",
    "    val_losses = []\n",
    "    val_accuracies = []\n",
    "\n",
    "    for epoch in range(num_epochs):\n",
    "        train_loss, train_acc = train(trainloader, model, criterion, optimizer)\n",
    "        val_loss, val_acc = validate(valloader, model, criterion)\n",
    "\n",
    "        train_losses.append(train_loss)\n",
    "        train_accuracies.append(train_acc)\n",
    "        val_losses.append(val_loss)\n",
    "        val_accuracies.append(val_acc)\n",
    "\n",
    "        print(f'Epoch {epoch+1}/{num_epochs}, '\n",
    "              f'Train Loss: {train_loss:.4f}, Train Acc: {train_acc:.4f}, '\n",
    "              f'Val Loss: {val_loss:.4f}, Val Acc: {val_acc:.4f}')\n",
    "\n",
    "    # Evaluate on the test set\n",
    "    test_acc = test(testloader, model)\n",
    "    print(f'The final result of testing accuracy with L1/L2 and dropout regularization with CustomBestCNN after training for {num_epochs} epochs is {test_acc * 100:.2f}%')\n",
    "\n",
    "print(\"Experiment with L1, L2 and Dropout filter size:\")\n",
    "run_experiment(trainloader, testloader, CustomBESTCNN)"
   ]
  },
  {
   "cell_type": "markdown",
   "metadata": {},
   "source": [
    "##### 6. Experimentation with and without data augmentation."
   ]
  },
  {
   "cell_type": "code",
   "execution_count": 40,
   "metadata": {},
   "outputs": [
    {
     "name": "stdout",
     "output_type": "stream",
     "text": [
      "Files already downloaded and verified\n"
     ]
    }
   ],
   "source": [
    "import torchvision.transforms as transforms\n",
    "\n",
    "# defining data augmentation transformations for training\n",
    "transform_train_augmented = transforms.Compose([\n",
    "    transforms.RandomHorizontalFlip(),\n",
    "    transforms.RandomCrop(32, padding=4),\n",
    "    transforms.RandomRotation(10),\n",
    "    transforms.ColorJitter(brightness=0.2, contrast=0.2, saturation=0.2, hue=0.1),\n",
    "    transforms.ToTensor(),\n",
    "    transforms.Normalize((0.5, 0.5, 0.5), (0.5, 0.5, 0.5))\n",
    "])\n",
    "\n",
    "# Loading datasets with data augmentation\n",
    "trainset_augmented = torchvision.datasets.CIFAR10(root='./data', train=True, download=True, transform=transform_train_augmented)\n",
    "trainloader_augmented = DataLoader(trainset_augmented, batch_size=128, shuffle=True, num_workers=4)\n"
   ]
  },
  {
   "cell_type": "code",
   "execution_count": 41,
   "metadata": {},
   "outputs": [
    {
     "name": "stdout",
     "output_type": "stream",
     "text": [
      "Files already downloaded and verified\n"
     ]
    }
   ],
   "source": [
    "# transformations for training without augmentation\n",
    "transform_train_no_aug = transforms.Compose([\n",
    "    transforms.ToTensor(),\n",
    "    transforms.Normalize((0.5, 0.5, 0.5), (0.5, 0.5, 0.5))\n",
    "])\n",
    "\n",
    "# Loading datasets without data augmentation\n",
    "trainset_no_aug = torchvision.datasets.CIFAR10(root='./data', train=True, download=True, transform=transform_train_no_aug)\n",
    "trainloader_no_aug = DataLoader(trainset_no_aug, batch_size=128, shuffle=True, num_workers=4)\n"
   ]
  },
  {
   "cell_type": "code",
   "execution_count": 52,
   "metadata": {},
   "outputs": [
    {
     "name": "stdout",
     "output_type": "stream",
     "text": [
      "Training with Data Augmentation:\n",
      "Epoch 1/20, Train Loss: 1.8797, Train Acc: 0.3352, Val Loss: 1.5786, Val Acc: 0.4350\n",
      "Epoch 2/20, Train Loss: 1.5874, Train Acc: 0.4665, Val Loss: 1.3201, Val Acc: 0.5276\n",
      "Epoch 3/20, Train Loss: 1.4227, Train Acc: 0.5360, Val Loss: 1.2074, Val Acc: 0.5708\n",
      "Epoch 4/20, Train Loss: 1.3237, Train Acc: 0.5792, Val Loss: 1.1096, Val Acc: 0.6040\n",
      "Epoch 5/20, Train Loss: 1.2573, Train Acc: 0.6091, Val Loss: 0.9912, Val Acc: 0.6548\n",
      "Epoch 6/20, Train Loss: 1.2090, Train Acc: 0.6304, Val Loss: 0.9463, Val Acc: 0.6746\n",
      "Epoch 7/20, Train Loss: 1.1704, Train Acc: 0.6514, Val Loss: 0.8892, Val Acc: 0.6944\n",
      "Epoch 8/20, Train Loss: 1.1308, Train Acc: 0.6682, Val Loss: 0.8683, Val Acc: 0.6994\n",
      "Epoch 9/20, Train Loss: 1.1127, Train Acc: 0.6764, Val Loss: 0.8249, Val Acc: 0.7180\n",
      "Epoch 10/20, Train Loss: 1.0899, Train Acc: 0.6866, Val Loss: 0.8200, Val Acc: 0.7200\n",
      "Epoch 11/20, Train Loss: 1.0657, Train Acc: 0.6949, Val Loss: 0.8087, Val Acc: 0.7260\n",
      "Epoch 12/20, Train Loss: 1.0538, Train Acc: 0.7044, Val Loss: 0.7657, Val Acc: 0.7296\n",
      "Epoch 13/20, Train Loss: 1.0407, Train Acc: 0.7095, Val Loss: 0.7478, Val Acc: 0.7468\n",
      "Epoch 14/20, Train Loss: 1.0194, Train Acc: 0.7173, Val Loss: 0.7573, Val Acc: 0.7402\n",
      "Epoch 15/20, Train Loss: 1.0178, Train Acc: 0.7213, Val Loss: 0.7392, Val Acc: 0.7514\n",
      "Epoch 16/20, Train Loss: 1.0069, Train Acc: 0.7270, Val Loss: 0.7034, Val Acc: 0.7634\n",
      "Epoch 17/20, Train Loss: 0.9981, Train Acc: 0.7308, Val Loss: 0.7179, Val Acc: 0.7532\n",
      "Epoch 18/20, Train Loss: 0.9915, Train Acc: 0.7325, Val Loss: 0.7002, Val Acc: 0.7558\n",
      "Epoch 19/20, Train Loss: 0.9864, Train Acc: 0.7363, Val Loss: 0.6833, Val Acc: 0.7598\n",
      "Epoch 20/20, Train Loss: 0.9741, Train Acc: 0.7387, Val Loss: 0.6551, Val Acc: 0.7760\n",
      "The final result of testing accuracy after training for 20 epochs is 78.53%\n",
      "\n",
      "Training without Data Augmentation:\n",
      "Epoch 1/20, Train Loss: 1.6847, Train Acc: 0.4223, Val Loss: 2.0405, Val Acc: 0.3344\n",
      "Epoch 2/20, Train Loss: 1.3314, Train Acc: 0.5835, Val Loss: 1.7020, Val Acc: 0.4384\n",
      "Epoch 3/20, Train Loss: 1.1577, Train Acc: 0.6615, Val Loss: 1.6937, Val Acc: 0.4556\n",
      "Epoch 4/20, Train Loss: 1.0489, Train Acc: 0.7110, Val Loss: 1.5025, Val Acc: 0.5014\n",
      "Epoch 5/20, Train Loss: 0.9691, Train Acc: 0.7433, Val Loss: 1.5419, Val Acc: 0.5038\n",
      "Epoch 6/20, Train Loss: 0.8945, Train Acc: 0.7747, Val Loss: 1.5795, Val Acc: 0.5050\n",
      "Epoch 7/20, Train Loss: 0.8398, Train Acc: 0.7995, Val Loss: 1.5806, Val Acc: 0.5264\n",
      "Epoch 8/20, Train Loss: 0.7976, Train Acc: 0.8206, Val Loss: 1.6364, Val Acc: 0.5278\n",
      "Epoch 9/20, Train Loss: 0.7606, Train Acc: 0.8384, Val Loss: 1.6677, Val Acc: 0.5350\n",
      "Epoch 10/20, Train Loss: 0.7201, Train Acc: 0.8573, Val Loss: 1.6594, Val Acc: 0.5304\n",
      "Epoch 11/20, Train Loss: 0.6909, Train Acc: 0.8722, Val Loss: 2.0511, Val Acc: 0.5036\n",
      "Epoch 12/20, Train Loss: 0.6628, Train Acc: 0.8855, Val Loss: 1.8092, Val Acc: 0.5440\n",
      "Epoch 13/20, Train Loss: 0.6377, Train Acc: 0.8987, Val Loss: 2.3523, Val Acc: 0.5230\n",
      "Epoch 14/20, Train Loss: 0.6264, Train Acc: 0.9063, Val Loss: 2.0800, Val Acc: 0.5276\n",
      "Epoch 15/20, Train Loss: 0.6150, Train Acc: 0.9151, Val Loss: 2.1981, Val Acc: 0.5176\n",
      "Epoch 16/20, Train Loss: 0.5991, Train Acc: 0.9232, Val Loss: 2.2604, Val Acc: 0.5078\n",
      "Epoch 17/20, Train Loss: 0.5942, Train Acc: 0.9269, Val Loss: 2.4128, Val Acc: 0.5168\n",
      "Epoch 18/20, Train Loss: 0.5837, Train Acc: 0.9329, Val Loss: 2.4418, Val Acc: 0.5130\n",
      "Epoch 19/20, Train Loss: 0.5725, Train Acc: 0.9383, Val Loss: 2.4588, Val Acc: 0.5336\n",
      "Epoch 20/20, Train Loss: 0.5609, Train Acc: 0.9428, Val Loss: 2.6709, Val Acc: 0.5252\n",
      "The final result of testing accuracy after training for 20 epochs is 76.86%\n"
     ]
    }
   ],
   "source": [
    "def run_experiment(trainloader, testloader):\n",
    "    torch.manual_seed(42)\n",
    "    torch.cuda.manual_seed(42)\n",
    "    \n",
    "    model = CustomBESTCNN().to(device)\n",
    "    criterion = nn.CrossEntropyLoss()\n",
    "    optimizer = optim.Adam(model.parameters(), lr=0.001, weight_decay=1e-5)\n",
    "\n",
    "    num_epochs = 20\n",
    "    train_losses = []\n",
    "    train_accuracies = []\n",
    "    val_losses = []\n",
    "    val_accuracies = []\n",
    "\n",
    "    for epoch in range(num_epochs):\n",
    "        train_loss, train_acc = train(trainloader, model, criterion, optimizer)\n",
    "        val_loss, val_acc = validate(valloader, model, criterion)\n",
    "\n",
    "        train_losses.append(train_loss)\n",
    "        train_accuracies.append(train_acc)\n",
    "        val_losses.append(val_loss)\n",
    "        val_accuracies.append(val_acc)\n",
    "\n",
    "        print(f'Epoch {epoch+1}/{num_epochs}, '\n",
    "              f'Train Loss: {train_loss:.4f}, Train Acc: {train_acc:.4f}, '\n",
    "              f'Val Loss: {val_loss:.4f}, Val Acc: {val_acc:.4f}')\n",
    "\n",
    "    # Evaluation on the test set\n",
    "    test_acc = test(testloader, model)\n",
    "    print(f'The final result of testing accuracy after training for {num_epochs} epochs is {test_acc * 100:.2f}%')\n",
    "\n",
    "# with data augmentation\n",
    "print(\"Training with Data Augmentation:\")\n",
    "run_experiment(trainloader_augmented, testloader)\n",
    "\n",
    "# without data augmentation\n",
    "print(\"\\nTraining without Data Augmentation:\")\n",
    "run_experiment(trainloader_no_aug, testloader)\n"
   ]
  },
  {
   "cell_type": "markdown",
   "metadata": {},
   "source": [
    "# Short Report:"
   ]
  },
  {
   "cell_type": "code",
   "execution_count": 60,
   "metadata": {},
   "outputs": [
    {
     "data": {
      "text/html": [
       "<style type=\"text/css\">\n",
       "#T_98726 th {\n",
       "  font-weight: bold;\n",
       "}\n",
       "#T_98726_row0_col0, #T_98726_row0_col1, #T_98726_row0_col2, #T_98726_row1_col0, #T_98726_row1_col1, #T_98726_row1_col2, #T_98726_row2_col0, #T_98726_row2_col1, #T_98726_row2_col2, #T_98726_row3_col0, #T_98726_row3_col1, #T_98726_row3_col2, #T_98726_row4_col0, #T_98726_row4_col1, #T_98726_row4_col2, #T_98726_row5_col0, #T_98726_row5_col1, #T_98726_row5_col2, #T_98726_row6_col0, #T_98726_row6_col1, #T_98726_row6_col2, #T_98726_row7_col0, #T_98726_row7_col1, #T_98726_row7_col2 {\n",
       "  text-align: center;\n",
       "}\n",
       "</style>\n",
       "<table id=\"T_98726\">\n",
       "  <caption>Experimental Results Summary</caption>\n",
       "  <thead>\n",
       "    <tr>\n",
       "      <th class=\"blank level0\" >&nbsp;</th>\n",
       "      <th id=\"T_98726_level0_col0\" class=\"col_heading level0 col0\" >Experiment</th>\n",
       "      <th id=\"T_98726_level0_col1\" class=\"col_heading level0 col1\" >Validation Accuracy (%)</th>\n",
       "      <th id=\"T_98726_level0_col2\" class=\"col_heading level0 col2\" >Testing Accuracy (%)</th>\n",
       "    </tr>\n",
       "  </thead>\n",
       "  <tbody>\n",
       "    <tr>\n",
       "      <th id=\"T_98726_level0_row0\" class=\"row_heading level0 row0\" >0</th>\n",
       "      <td id=\"T_98726_row0_col0\" class=\"data row0 col0\" >Initial CustomCNN (100 epochs)</td>\n",
       "      <td id=\"T_98726_row0_col1\" class=\"data row0 col1\" >81.94%</td>\n",
       "      <td id=\"T_98726_row0_col2\" class=\"data row0 col2\" >83.82%</td>\n",
       "    </tr>\n",
       "    <tr>\n",
       "      <th id=\"T_98726_level0_row1\" class=\"row_heading level0 row1\" >1</th>\n",
       "      <td id=\"T_98726_row1_col0\" class=\"data row1 col0\" >Small Filters (3x3)</td>\n",
       "      <td id=\"T_98726_row1_col1\" class=\"data row1 col1\" >74.90%</td>\n",
       "      <td id=\"T_98726_row1_col2\" class=\"data row1 col2\" >80.55%</td>\n",
       "    </tr>\n",
       "    <tr>\n",
       "      <th id=\"T_98726_level0_row2\" class=\"row_heading level0 row2\" >2</th>\n",
       "      <td id=\"T_98726_row2_col0\" class=\"data row2 col0\" >Large Filters (15x15)</td>\n",
       "      <td id=\"T_98726_row2_col1\" class=\"data row2 col1\" >56.18%</td>\n",
       "      <td id=\"T_98726_row2_col2\" class=\"data row2 col2\" >65.49%</td>\n",
       "    </tr>\n",
       "    <tr>\n",
       "      <th id=\"T_98726_level0_row3\" class=\"row_heading level0 row3\" >3</th>\n",
       "      <td id=\"T_98726_row3_col0\" class=\"data row3 col0\" >Increasing Filter Sizes (3x3, 5x5, 7x7)</td>\n",
       "      <td id=\"T_98726_row3_col1\" class=\"data row3 col1\" >73.60%</td>\n",
       "      <td id=\"T_98726_row3_col2\" class=\"data row3 col2\" >77.41%</td>\n",
       "    </tr>\n",
       "    <tr>\n",
       "      <th id=\"T_98726_level0_row4\" class=\"row_heading level0 row4\" >4</th>\n",
       "      <td id=\"T_98726_row4_col0\" class=\"data row4 col0\" >Decreasing Filter Sizes (7x7, 5x5, 3x3)</td>\n",
       "      <td id=\"T_98726_row4_col1\" class=\"data row4 col1\" >72.94%</td>\n",
       "      <td id=\"T_98726_row4_col2\" class=\"data row4 col2\" >78.81%</td>\n",
       "    </tr>\n",
       "    <tr>\n",
       "      <th id=\"T_98726_level0_row5\" class=\"row_heading level0 row5\" >5</th>\n",
       "      <td id=\"T_98726_row5_col0\" class=\"data row5 col0\" >L1/L2 Regularization with Dropout</td>\n",
       "      <td id=\"T_98726_row5_col1\" class=\"data row5 col1\" >73.42%</td>\n",
       "      <td id=\"T_98726_row5_col2\" class=\"data row5 col2\" >77.17%</td>\n",
       "    </tr>\n",
       "    <tr>\n",
       "      <th id=\"T_98726_level0_row6\" class=\"row_heading level0 row6\" >6</th>\n",
       "      <td id=\"T_98726_row6_col0\" class=\"data row6 col0\" >With Data Augmentation</td>\n",
       "      <td id=\"T_98726_row6_col1\" class=\"data row6 col1\" >77.60%</td>\n",
       "      <td id=\"T_98726_row6_col2\" class=\"data row6 col2\" >78.53%</td>\n",
       "    </tr>\n",
       "    <tr>\n",
       "      <th id=\"T_98726_level0_row7\" class=\"row_heading level0 row7\" >7</th>\n",
       "      <td id=\"T_98726_row7_col0\" class=\"data row7 col0\" >Without Data Augmentation</td>\n",
       "      <td id=\"T_98726_row7_col1\" class=\"data row7 col1\" >52.52%</td>\n",
       "      <td id=\"T_98726_row7_col2\" class=\"data row7 col2\" >76.86%</td>\n",
       "    </tr>\n",
       "  </tbody>\n",
       "</table>\n"
      ],
      "text/plain": [
       "<pandas.io.formats.style.Styler at 0x7f2d408612e0>"
      ]
     },
     "execution_count": 60,
     "metadata": {},
     "output_type": "execute_result"
    }
   ],
   "source": [
    "import pandas as pd\n",
    "\n",
    "# summarizing the experimental results in the table\n",
    "results_data = {\n",
    "    'Experiment': [\n",
    "        'Initial CustomCNN (100 epochs)',\n",
    "        'Small Filters (3x3)',\n",
    "        'Large Filters (15x15)',\n",
    "        'Increasing Filter Sizes (3x3, 5x5, 7x7)',\n",
    "        'Decreasing Filter Sizes (7x7, 5x5, 3x3)',\n",
    "        'L1/L2 Regularization with Dropout',\n",
    "        'With Data Augmentation',\n",
    "        'Without Data Augmentation'\n",
    "    ],\n",
    "    'Validation Accuracy (%)': [81.94, 74.9, 56.18, 73.6, 72.94, 73.42, 77.6, 52.52],\n",
    "    'Testing Accuracy (%)': [83.82, 80.55, 65.49, 77.41, 78.81, 77.17, 78.53, 76.86]\n",
    "}\n",
    "\n",
    "# pandas dataframe\n",
    "results_df = pd.DataFrame(results_data)\n",
    "\n",
    "# Format to two decimal places\n",
    "formatted_results_df = results_df.style.format({\n",
    "    'Validation Accuracy (%)': '{:.2f}%',\n",
    "    'Testing Accuracy (%)': '{:.2f}%'\n",
    "}).set_table_styles(\n",
    "    [{'selector': 'th', 'props': [('font-weight', 'bold')]}]\n",
    ").set_properties(**{'text-align': 'center'}).set_caption(\"Experimental Results Summary\")\n",
    "\n",
    "formatted_results_df"
   ]
  },
  {
   "cell_type": "markdown",
   "metadata": {},
   "source": [
    "In our experiments with different CNN setups on the CIFAR-10 dataset, using small filters (3x3) resulted in the best performance, achieving a high testing accuracy of 80.55%. These filters effectively captured essential details. Data augmentation also played a crucial role by increasing testing accuracy to 78.53%, compared to 76.86% without it, highlighting its importance for generalization."
   ]
  }
 ],
 "metadata": {
  "kernelspec": {
   "display_name": "opt",
   "language": "python",
   "name": "opt"
  },
  "language_info": {
   "codemirror_mode": {
    "name": "ipython",
    "version": 3
   },
   "file_extension": ".py",
   "mimetype": "text/x-python",
   "name": "python",
   "nbconvert_exporter": "python",
   "pygments_lexer": "ipython3",
   "version": "3.9.19"
  }
 },
 "nbformat": 4,
 "nbformat_minor": 2
}
